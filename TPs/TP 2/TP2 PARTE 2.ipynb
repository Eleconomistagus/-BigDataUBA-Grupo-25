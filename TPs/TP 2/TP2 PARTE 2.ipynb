{
 "cells": [
  {
   "cell_type": "code",
   "execution_count": 11,
   "id": "a45613af-1138-4f7c-bfcb-f869a2036ae6",
   "metadata": {},
   "outputs": [],
   "source": [
    "import pandas as pd\n",
    "df_ano2004 = pd.read_stata(r\"C:\\Users\\El economista\\Documents\\GitHub\\-BigDataUBA-Grupo-25\\TPs\\TP 2\\EPH 2004\\Individual_t104.dta\")"
   ]
  },
  {
   "cell_type": "code",
   "execution_count": 12,
   "id": "130e535a-51b9-476c-92a6-de69b247696e",
   "metadata": {},
   "outputs": [],
   "source": [
    "df_ano2024 = pd.read_stata(r\"C:\\Users\\El economista\\Documents\\GitHub\\-BigDataUBA-Grupo-25\\TPs\\TP 2\\EPH_usu_1er_Trim_2024_xlsx\\usu_individual_T124.dta\")"
   ]
  },
  {
   "cell_type": "code",
   "execution_count": null,
   "id": "2c4b3e71-6016-4ea4-9d62-1a67377fe7b3",
   "metadata": {},
   "outputs": [],
   "source": []
  }
 ],
 "metadata": {
  "kernelspec": {
   "display_name": "Python 3 (ipykernel)",
   "language": "python",
   "name": "python3"
  },
  "language_info": {
   "codemirror_mode": {
    "name": "ipython",
    "version": 3
   },
   "file_extension": ".py",
   "mimetype": "text/x-python",
   "name": "python",
   "nbconvert_exporter": "python",
   "pygments_lexer": "ipython3",
   "version": "3.12.7"
  }
 },
 "nbformat": 4,
 "nbformat_minor": 5
}
