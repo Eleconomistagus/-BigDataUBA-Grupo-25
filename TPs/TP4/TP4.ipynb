{
 "cells": [
  {
   "cell_type": "code",
   "execution_count": 6,
   "id": "bf3e90bf-e56a-4f50-8533-762e33a7cbc6",
   "metadata": {},
   "outputs": [],
   "source": [
    "import pandas as pd\n",
    "\n",
    "# Leer el archivo Excel correctamente\n",
    "df = pd.read_excel(r\"C:\\Users\\nicoa\\Desktop\\Nueva carpeta\\df_completo_original.xlsx\")"
   ]
  },
  {
   "cell_type": "code",
   "execution_count": 7,
   "id": "dca41a36-cd2d-4d3d-91a3-ff4edcbac998",
   "metadata": {},
   "outputs": [],
   "source": [
    "# Crear la nueva columna \"edad²\" con los valores al cuadrado\n",
    "# Renombrar la columna \"edad\" a \"edad2\"\n",
    "df.rename(columns={\"ch06\": \"edad2\"}, inplace=True)\n",
    "df[\"edad²\"] = df[\"edad2\"] ** 2\n",
    "df[\"horastrab\"] = df[\"pp3e_tot\"] + df[\"pp3f_tot\"]\n",
    "# Aplicar el coeficiente de ajuste\n",
    "df[\"p21\"] = df[\"p21\"].astype(float)  # Convertir a float antes de modificar\n",
    "df.loc[df[\"ano4\"] == 2004, \"p21\"] *= 314.621568\n",
    "# Calcular el salario semanal\n",
    "df[\"salario_semanal\"] = df[\"p21\"] / 40\n",
    "# Función para calcular años de educación\n",
    "def calcular_educ(row):\n",
    "    if row[\"ch12\"] == 2:  # Primario\n",
    "        return row[\"ch14\"]\n",
    "    elif row[\"ch12\"] == 4:  # Secundario\n",
    "        return 12 if row[\"ch13\"] == 1 else row[\"ch14\"]\n",
    "    elif row[\"ch12\"] == 6:  # Terciario\n",
    "        return 15 if row[\"ch13\"] == 1 else 12 + row[\"ch14\"]\n",
    "    elif row[\"ch12\"] == 7:  # Universitario\n",
    "        return 17 if row[\"ch13\"] == 1 else 12 + row[\"ch14\"]\n",
    "    elif row[\"ch12\"] == 9:  # Educación especial\n",
    "        return None  # No comparable\n",
    "    else:\n",
    "        return None  # Ns/Nr u otro valor\n",
    "\n",
    "# Aplicar la función al DataFrame\n",
    "df[\"educ\"] = df.apply(calcular_educ, axis=1)\n",
    "df.rename(columns={\"ch06\": \"edad2\"}, inplace=True)\n",
    "# Crear la variable dependiente (y) a partir de estado\n",
    "df[\"desocupado\"] = (df[\"estado\"] == 2).astype(int)  # 2 = Desocupado, 1 = Ocupado"
   ]
  },
  {
   "cell_type": "code",
   "execution_count": 8,
   "id": "62008ed8-7f55-4a58-b1b8-9265e6c6eb8d",
   "metadata": {},
   "outputs": [],
   "source": [
    "from sklearn.model_selection import train_test_split\n",
    "import numpy as np\n",
    "import pandas as pd\n",
    "# Variables predictoras (X) y dependiente (y)\n",
    "X = df[[\"edad2\", \"edad²\", \"educ\", \"salario_semanal\", \"horastrab\"]].copy()\n",
    "y = df[\"desocupado\"]\n",
    "\n",
    "# Agregar la columna de unos para la regresión\n",
    "X[\"constante\"] = np.ones(len(df))\n",
    "\n",
    "# Dividir en entrenamiento y testeo\n",
    "X_train, X_test, y_train, y_test = train_test_split(X, y, test_size=0.3, random_state=444)"
   ]
  },
  {
   "cell_type": "code",
   "execution_count": 9,
   "id": "7f55e4bd-3d85-4c19-80bb-daff4ea0af68",
   "metadata": {},
   "outputs": [
    {
     "name": "stdout",
     "output_type": "stream",
     "text": [
      "                       Train         Test  Diferencia\n",
      "edad2              33.841266    33.846800   -0.005534\n",
      "edad²            1635.351659  1634.142179    1.209479\n",
      "educ               10.087469    10.174397   -0.086928\n",
      "salario_semanal  2140.781975  2153.207900  -12.425925\n",
      "horastrab          21.617652    21.959128   -0.341476\n",
      "constante           1.000000     1.000000    0.000000\n"
     ]
    }
   ],
   "source": [
    "# Calcular medias en cada grupo\n",
    "medias_train = X_train.mean()\n",
    "medias_test = X_test.mean()\n",
    "\n",
    "# Crear tabla con las diferencias\n",
    "diferencia_medias = pd.DataFrame({\"Train\": medias_train, \"Test\": medias_test})\n",
    "diferencia_medias[\"Diferencia\"] = diferencia_medias[\"Train\"] - diferencia_medias[\"Test\"]\n",
    "y_train = y_train.loc[X_train.index]\n",
    "# Mostrar la tabla\n",
    "print(diferencia_medias)"
   ]
  },
  {
   "cell_type": "code",
   "execution_count": 17,
   "id": "23e770f7-80ae-4827-be07-693f6de69bd0",
   "metadata": {},
   "outputs": [
    {
     "name": "stdout",
     "output_type": "stream",
     "text": [
      "                            OLS Regression Results                            \n",
      "==============================================================================\n",
      "Dep. Variable:             desocupado   R-squared:                       0.040\n",
      "Model:                            OLS   Adj. R-squared:                  0.039\n",
      "Method:                 Least Squares   F-statistic:                     233.3\n",
      "Date:                Tue, 03 Jun 2025   Prob (F-statistic):          6.15e-245\n",
      "Time:                        00:01:54   Log-Likelihood:                 4264.0\n",
      "No. Observations:               28336   AIC:                            -8516.\n",
      "Df Residuals:                   28330   BIC:                            -8467.\n",
      "Df Model:                           5                                         \n",
      "Covariance Type:            nonrobust                                         \n",
      "===================================================================================\n",
      "                      coef    std err          t      P>|t|      [0.025      0.975]\n",
      "-----------------------------------------------------------------------------------\n",
      "edad2               0.0008      0.000      2.385      0.017       0.000       0.002\n",
      "edad²            -2.28e-05   3.96e-06     -5.756      0.000   -3.06e-05    -1.5e-05\n",
      "educ                0.0002      0.000      1.519      0.129   -5.48e-05       0.000\n",
      "salario_semanal -3.966e-06   1.99e-07    -19.888      0.000   -4.36e-06   -3.57e-06\n",
      "horastrab          -0.0005   2.66e-05    -19.212      0.000      -0.001      -0.000\n",
      "constante           0.0835      0.007     12.159      0.000       0.070       0.097\n",
      "==============================================================================\n",
      "Omnibus:                    22730.525   Durbin-Watson:                   1.999\n",
      "Prob(Omnibus):                  0.000   Jarque-Bera (JB):           336609.423\n",
      "Skew:                           4.036   Prob(JB):                         0.00\n",
      "Kurtosis:                      17.830   Cond. No.                     4.31e+04\n",
      "==============================================================================\n",
      "\n",
      "Notes:\n",
      "[1] Standard Errors assume that the covariance matrix of the errors is correctly specified.\n",
      "[2] The condition number is large, 4.31e+04. This might indicate that there are\n",
      "strong multicollinearity or other numerical problems.\n"
     ]
    }
   ],
   "source": [
    "import statsmodels.api as sm\n",
    "datos = pd.concat([X_train, y_train], axis=1)\n",
    "datos_limpios = datos.replace([np.inf, -np.inf], np.nan).dropna()\n",
    "X_train_limpio = datos_limpios[X_train.columns]\n",
    "y_train_limpio = datos_limpios[y_train.name] \n",
    "X_train_limpio = sm.add_constant(X_train_limpio)\n",
    "modelo = sm.OLS(y_train_limpio, X_train_limpio).fit()\n",
    "\n",
    "# Ver resultados\n",
    "print(modelo.summary())"
   ]
  },
  {
   "cell_type": "code",
   "execution_count": 19,
   "id": "a4bdf647-c7bf-43b6-bc03-d4744ed3c488",
   "metadata": {},
   "outputs": [
    {
     "name": "stdout",
     "output_type": "stream",
     "text": [
      "Dimensión de X_test: (27402, 6)\n",
      "Dimensión de y_test: (27402,)\n"
     ]
    }
   ],
   "source": [
    "print(\"Dimensión de X_test:\", X_test.shape)\n",
    "print(\"Dimensión de y_test:\", y_test.shape)"
   ]
  },
  {
   "cell_type": "code",
   "execution_count": 23,
   "id": "59e5f6be-9014-421b-963a-559e51c7642f",
   "metadata": {},
   "outputs": [
    {
     "name": "stdout",
     "output_type": "stream",
     "text": [
      "Error cuadrático medio (MSE): 0.04328408367218674\n"
     ]
    }
   ],
   "source": [
    "X_test = X_test[X_train.columns.drop('const', errors='ignore')]  # quitar 'const' si se añadió antes\n",
    "X_test = X_test.replace([np.inf, -np.inf], np.nan).dropna()\n",
    "y_test = y_test.loc[X_test.index]  # Alinear y_test con X_test limpio\n",
    "X_test_const = sm.add_constant(X_test)\n",
    "\n",
    "# Predecir\n",
    "y_pred = modelo.predict(X_test_const)\n",
    "\n",
    "# Evaluar el modelo\n",
    "mse = mean_squared_error(y_test, y_pred)\n",
    "print(\"Error cuadrático medio (MSE):\", mse)"
   ]
  },
  {
   "cell_type": "code",
   "execution_count": 39,
   "id": "729f5db9-3e26-4361-9530-f3f368b0764a",
   "metadata": {},
   "outputs": [
    {
     "name": "stdout",
     "output_type": "stream",
     "text": [
      "     Variable          Modelo 1           Modelo 2           Modelo 3  \\\n",
      "0       edad2  35.386 (0.75)***  268.534 (2.54)***  261.276 (2.56)***   \n",
      "1       edad²                     -3.004 (0.03)***   -2.936 (0.03)***   \n",
      "2        educ                                        41.315 (1.92)***   \n",
      "3       mujer                                                           \n",
      "4   horastrab                                                           \n",
      "5  desocupado                                                           \n",
      "6           N             91339              91339              91339   \n",
      "7          R²             0.024              0.112              0.117   \n",
      "\n",
      "               Modelo 4              Modelo 5  \n",
      "0     261.178 (2.53)***     247.633 (2.58)***  \n",
      "1      -2.912 (0.03)***      -2.784 (0.03)***  \n",
      "2      42.884 (1.90)***      40.831 (1.86)***  \n",
      "3  -1399.775 (31.46)***  -1260.281 (31.11)***  \n",
      "4                            18.103 (0.45)***  \n",
      "5                        -2811.831 (75.68)***  \n",
      "6                 91339                 91339  \n",
      "7                 0.136                 0.166  \n"
     ]
    }
   ],
   "source": [
    "import statsmodels.api as sm\n",
    "import pandas as pd\n",
    "from sklearn.impute import SimpleImputer\n",
    "\n",
    "# Asegurar que 'salario_semanal' no tenga NaN\n",
    "df = df.dropna(subset=[\"salario_semanal\"])\n",
    "\n",
    "df[\"mujer\"] = (df[\"ch04\"] == 2).astype(int)\n",
    "\n",
    "# Definir variables para cada modelo\n",
    "variables_modelos = [\n",
    "    [\"edad2\"],  # Modelo 1\n",
    "    [\"edad2\", \"edad²\"],  # Modelo 2\n",
    "    [\"edad2\", \"edad²\", \"educ\"],  # Modelo 3\n",
    "    [\"edad2\", \"edad²\", \"educ\", \"mujer\"],  # Modelo 4\n",
    "    [\"edad2\", \"edad²\", \"educ\", \"mujer\", \"horastrab\", \"desocupado\"]  # Modelo 5\n",
    "]\n",
    "\n",
    "# Limpiar posibles NaN en columnas\n",
    "imputer = SimpleImputer(strategy=\"mean\")\n",
    "columnas_relevantes = list(set(sum(variables_modelos, [])))\n",
    "df[columnas_relevantes] = imputer.fit_transform(df[columnas_relevantes])\n",
    "\n",
    "# Variable dependiente\n",
    "y = df[\"salario_semanal\"]\n",
    "\n",
    "# Entrenar modelos y guardar resultados\n",
    "modelos = {}\n",
    "for i, variables in enumerate(variables_modelos):\n",
    "    X = df[variables].copy()\n",
    "    X[\"constante\"] = 1\n",
    "    modelos[f\"Modelo {i+1}\"] = sm.OLS(y, X).fit()\n",
    "\n",
    "# Construir tabla final con coeficientes, desvío y significancia\n",
    "variables_tabla = [\"edad2\", \"edad²\", \"educ\", \"mujer\", \"horastrab\", \"desocupado\"]\n",
    "tabla_resultados = pd.DataFrame({\"Variable\": variables_tabla})\n",
    "\n",
    "for nombre, modelo in modelos.items():\n",
    "    fila_modelo = []\n",
    "    for var in variables_tabla:\n",
    "        if var in modelo.params:\n",
    "            coef = modelo.params[var]\n",
    "            std_err = modelo.bse[var]\n",
    "            p = modelo.pvalues[var]\n",
    "\n",
    "            # Significancia\n",
    "            if p < 0.001:\n",
    "                stars = \"***\"\n",
    "            elif p < 0.05:\n",
    "                stars = \"**\"\n",
    "            elif p < 0.1:\n",
    "                stars = \"*\"\n",
    "            else:\n",
    "                stars = \"\"\n",
    "\n",
    "            # Formato\n",
    "            fila_modelo.append(f\"{coef:.3f} ({std_err:.2f}){stars}\")\n",
    "        else:\n",
    "            fila_modelo.append(\"\")  # Vacío si la variable no está en ese modelo\n",
    "\n",
    "    tabla_resultados[nombre] = fila_modelo\n",
    "\n",
    "# Agregar N y R2\n",
    "tabla_resultados.loc[len(tabla_resultados)] = [\"N\"] + [f\"{model.nobs:.0f}\" for model in modelos.values()]\n",
    "tabla_resultados.loc[len(tabla_resultados)] = [\"R²\"] + [f\"{model.rsquared:.3f}\" for model in modelos.values()]\n",
    "\n",
    "# Mostrar tabla\n",
    "pd.set_option('display.max_columns', None)\n",
    "print(tabla_resultados)\n",
    "tabla_resultados.to_excel(\"tabla_modelo_regresion.xlsx\", index=False)\n"
   ]
  },
  {
   "cell_type": "code",
   "execution_count": null,
   "id": "b3430f65-1891-4ebc-913c-d89ad1f2b392",
   "metadata": {},
   "outputs": [],
   "source": []
  }
 ],
 "metadata": {
  "kernelspec": {
   "display_name": "Python [conda env:base] *",
   "language": "python",
   "name": "conda-base-py"
  },
  "language_info": {
   "codemirror_mode": {
    "name": "ipython",
    "version": 3
   },
   "file_extension": ".py",
   "mimetype": "text/x-python",
   "name": "python",
   "nbconvert_exporter": "python",
   "pygments_lexer": "ipython3",
   "version": "3.12.7"
  }
 },
 "nbformat": 4,
 "nbformat_minor": 5
}
