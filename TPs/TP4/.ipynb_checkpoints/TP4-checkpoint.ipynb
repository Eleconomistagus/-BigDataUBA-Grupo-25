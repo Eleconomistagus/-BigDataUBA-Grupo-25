{
 "cells": [
  {
   "cell_type": "code",
   "execution_count": 52,
   "id": "bf3e90bf-e56a-4f50-8533-762e33a7cbc6",
   "metadata": {},
   "outputs": [],
   "source": [
    "import pandas as pd\n",
    "\n",
    "# Leer el archivo Excel correctamente\n",
    "df = pd.read_excel(r\"C:\\Users\\El economista\\Documents\\GitHub\\-BigDataUBA-Grupo-25\\TPs\\TP4\\df_completo_original.xlsx\")"
   ]
  },
  {
   "cell_type": "code",
   "execution_count": 57,
   "id": "dca41a36-cd2d-4d3d-91a3-ff4edcbac998",
   "metadata": {},
   "outputs": [],
   "source": [
    "# Crear la nueva columna \"edad²\" con los valores al cuadrado\n",
    "# Renombrar la columna \"edad\" a \"edad2\"\n",
    "df.rename(columns={\"ch06\": \"edad2\"}, inplace=True)\n",
    "df[\"edad²\"] = df[\"edad2\"] ** 2\n",
    "df[\"horastrab\"] = df[\"pp3e_tot\"] + df[\"pp3f_tot\"]\n",
    "# Aplicar el coeficiente de ajuste\n",
    "df[\"p21\"] = df[\"p21\"].astype(float)  # Convertir a float antes de modificar\n",
    "df.loc[df[\"ano4\"] == 2004, \"p21\"] *= 314.621568\n",
    "# Calcular el salario semanal\n",
    "df[\"salario_semanal\"] = df[\"p21\"] / 40\n",
    "# Función para calcular años de educación\n",
    "def calcular_educ(row):\n",
    "    if row[\"ch12\"] == 2:  # Primario\n",
    "        return row[\"ch14\"]\n",
    "    elif row[\"ch12\"] == 4:  # Secundario\n",
    "        return 12 if row[\"ch13\"] == 1 else row[\"ch14\"]\n",
    "    elif row[\"ch12\"] == 6:  # Terciario\n",
    "        return 15 if row[\"ch13\"] == 1 else 12 + row[\"ch14\"]\n",
    "    elif row[\"ch12\"] == 7:  # Universitario\n",
    "        return 17 if row[\"ch13\"] == 1 else 12 + row[\"ch14\"]\n",
    "    elif row[\"ch12\"] == 9:  # Educación especial\n",
    "        return None  # No comparable\n",
    "    else:\n",
    "        return None  # Ns/Nr u otro valor\n",
    "\n",
    "# Aplicar la función al DataFrame\n",
    "df[\"educ\"] = df.apply(calcular_educ, axis=1)\n",
    "df.rename(columns={\"ch06\": \"edad2\"}, inplace=True)\n",
    "# Crear la variable dependiente (y) a partir de estado\n",
    "df[\"desocupado\"] = (df[\"estado\"] == 2).astype(int)  # 2 = Desocupado, 1 = Ocupado"
   ]
  },
  {
   "cell_type": "code",
   "execution_count": 58,
   "id": "62008ed8-7f55-4a58-b1b8-9265e6c6eb8d",
   "metadata": {},
   "outputs": [],
   "source": [
    "from sklearn.model_selection import train_test_split\n",
    "import numpy as np\n",
    "import pandas as pd\n",
    "# Variables predictoras (X) y dependiente (y)\n",
    "X = df[[\"edad2\", \"edad²\", \"educ\", \"salario_semanal\", \"horastrab\"]].copy()\n",
    "y = df[\"desocupado\"]\n",
    "\n",
    "# Agregar la columna de unos para la regresión\n",
    "X[\"constante\"] = np.ones(len(df))\n",
    "\n",
    "# Dividir en entrenamiento y testeo\n",
    "X_train, X_test, y_train, y_test = train_test_split(X, y, test_size=0.3, random_state=444)"
   ]
  },
  {
   "cell_type": "code",
   "execution_count": 76,
   "id": "7f55e4bd-3d85-4c19-80bb-daff4ea0af68",
   "metadata": {},
   "outputs": [
    {
     "name": "stdout",
     "output_type": "stream",
     "text": [
      "                       Train         Test  Diferencia\n",
      "edad2              38.928960    38.967911   -0.038951\n",
      "edad²            1776.114730  1784.543970   -8.429240\n",
      "educ               11.107213    11.217686   -0.110473\n",
      "salario_semanal  4080.866435  4076.120474    4.745960\n",
      "horastrab          27.713192    27.964563   -0.251371\n",
      "constante           1.000000     1.000000    0.000000\n"
     ]
    }
   ],
   "source": [
    "# Calcular medias en cada grupo\n",
    "medias_train = X_train.mean()\n",
    "medias_test = X_test.mean()\n",
    "\n",
    "# Crear tabla con las diferencias\n",
    "diferencia_medias = pd.DataFrame({\"Train\": medias_train, \"Test\": medias_test})\n",
    "diferencia_medias[\"Diferencia\"] = diferencia_medias[\"Train\"] - diferencia_medias[\"Test\"]\n",
    "y_train = y_train.loc[X_train.index]\n",
    "# Mostrar la tabla\n",
    "print(diferencia_medias)"
   ]
  },
  {
   "cell_type": "code",
   "execution_count": 77,
   "id": "23e770f7-80ae-4827-be07-693f6de69bd0",
   "metadata": {},
   "outputs": [
    {
     "name": "stdout",
     "output_type": "stream",
     "text": [
      "                            OLS Regression Results                            \n",
      "==============================================================================\n",
      "Dep. Variable:             desocupado   R-squared:                       0.040\n",
      "Model:                            OLS   Adj. R-squared:                  0.039\n",
      "Method:                 Least Squares   F-statistic:                     233.3\n",
      "Date:                Sat, 31 May 2025   Prob (F-statistic):          6.15e-245\n",
      "Time:                        15:48:03   Log-Likelihood:                 4264.0\n",
      "No. Observations:               28336   AIC:                            -8516.\n",
      "Df Residuals:                   28330   BIC:                            -8467.\n",
      "Df Model:                           5                                         \n",
      "Covariance Type:            nonrobust                                         \n",
      "===================================================================================\n",
      "                      coef    std err          t      P>|t|      [0.025      0.975]\n",
      "-----------------------------------------------------------------------------------\n",
      "edad2               0.0008      0.000      2.385      0.017       0.000       0.002\n",
      "edad²            -2.28e-05   3.96e-06     -5.756      0.000   -3.06e-05    -1.5e-05\n",
      "educ                0.0002      0.000      1.519      0.129   -5.48e-05       0.000\n",
      "salario_semanal -3.966e-06   1.99e-07    -19.888      0.000   -4.36e-06   -3.57e-06\n",
      "horastrab          -0.0005   2.66e-05    -19.212      0.000      -0.001      -0.000\n",
      "constante           0.0835      0.007     12.159      0.000       0.070       0.097\n",
      "==============================================================================\n",
      "Omnibus:                    22730.525   Durbin-Watson:                   1.999\n",
      "Prob(Omnibus):                  0.000   Jarque-Bera (JB):           336609.423\n",
      "Skew:                           4.036   Prob(JB):                         0.00\n",
      "Kurtosis:                      17.830   Cond. No.                     4.31e+04\n",
      "==============================================================================\n",
      "\n",
      "Notes:\n",
      "[1] Standard Errors assume that the covariance matrix of the errors is correctly specified.\n",
      "[2] The condition number is large, 4.31e+04. This might indicate that there are\n",
      "strong multicollinearity or other numerical problems.\n"
     ]
    }
   ],
   "source": [
    "import statsmodels.api as sm\n",
    "\n",
    "# Ajuste del modelo de regresión lineal\n",
    "modelo = sm.OLS(y_train, X_train).fit()\n",
    "\n",
    "# Ver resultados\n",
    "print(modelo.summary())"
   ]
  },
  {
   "cell_type": "code",
   "execution_count": 78,
   "id": "a4bdf647-c7bf-43b6-bc03-d4744ed3c488",
   "metadata": {},
   "outputs": [
    {
     "name": "stdout",
     "output_type": "stream",
     "text": [
      "Dimensión de X_test: (12247, 6)\n",
      "Dimensión de y_test: (12247,)\n"
     ]
    }
   ],
   "source": [
    "print(\"Dimensión de X_test:\", X_test.shape)\n",
    "print(\"Dimensión de y_test:\", y_test.shape)"
   ]
  },
  {
   "cell_type": "code",
   "execution_count": 79,
   "id": "59e5f6be-9014-421b-963a-559e51c7642f",
   "metadata": {},
   "outputs": [
    {
     "name": "stdout",
     "output_type": "stream",
     "text": [
      "Error cuadrático medio (MSE): 0.043284083672186766\n"
     ]
    }
   ],
   "source": [
    "# Predicciones en el conjunto de test\n",
    "y_pred = modelo.predict(X_test[:12247])  # Limitar a la cantidad correcta de muestras\n",
    "\n",
    "X_test = X_test[X_train.columns]  # Asegurar que las columnas coinciden\n",
    "y_test = y_test.loc[X_test.index]  # Asegurar que los índices sigan alineados\n",
    "# Evaluar desempeño del modelo\n",
    "from sklearn.metrics import mean_squared_error\n",
    "\n",
    "mse = mean_squared_error(y_test, y_pred)\n",
    "print(\"Error cuadrático medio (MSE):\", mse)"
   ]
  },
  {
   "cell_type": "code",
   "execution_count": 81,
   "id": "729f5db9-3e26-4361-9530-f3f368b0764a",
   "metadata": {},
   "outputs": [
    {
     "name": "stdout",
     "output_type": "stream",
     "text": [
      "    Variables   Modelo 1    Modelo 2    Modelo 3     Modelo 4     Modelo 5\n",
      "0       edad2  35.386475  268.533930  261.275515   261.178485   247.632963\n",
      "1       edad²        NaN   -3.003903   -2.935585    -2.911691    -2.783669\n",
      "2        educ        NaN         NaN   41.315244    42.884281    40.830601\n",
      "3       mujer        NaN         NaN         NaN -1399.774829 -1260.281199\n",
      "4   horastrab        NaN         NaN         NaN          NaN    18.102891\n",
      "5  desocupado        NaN         NaN         NaN          NaN -2811.831389\n"
     ]
    }
   ],
   "source": [
    "import statsmodels.api as sm\n",
    "import pandas as pd\n",
    "from sklearn.impute import SimpleImputer\n",
    "\n",
    "# Asegurar que 'salario_semanal' no tenga NaN\n",
    "df = df.dropna(subset=[\"salario_semanal\"])\n",
    "\n",
    "# Crear variable mujer\n",
    "df[\"mujer\"] = (df[\"ch04\"] == 2).astype(int)  \n",
    "\n",
    "# Variables predictoras para cada modelo\n",
    "variables_modelos = [\n",
    "    [\"edad2\"],  # Modelo 1\n",
    "    [\"edad2\", \"edad²\"],  # Modelo 2\n",
    "    [\"edad2\", \"edad²\", \"educ\"],  # Modelo 3\n",
    "    [\"edad2\", \"edad²\", \"educ\", \"mujer\"],  # Modelo 4\n",
    "    [\"edad2\", \"edad²\", \"educ\", \"mujer\", \"horastrab\", \"desocupado\"]  # Modelo 5\n",
    "]\n",
    "\n",
    "# Limpiar NaN en variables predictoras\n",
    "imputer = SimpleImputer(strategy=\"mean\")\n",
    "df[[\"edad2\", \"edad²\", \"educ\", \"horastrab\", \"desocupado\"]] = imputer.fit_transform(df[[\"edad2\", \"edad²\", \"educ\", \"horastrab\", \"desocupado\"]])\n",
    "\n",
    "# Almacenar los modelos estimados\n",
    "modelos = {}\n",
    "\n",
    "for i, variables in enumerate(variables_modelos):\n",
    "    X = df[variables].copy()\n",
    "    X[\"constante\"] = 1  # Agregar constante\n",
    "    y = df[\"salario_semanal\"]\n",
    "\n",
    "    # Asegurar que los índices estén alineados\n",
    "    y = y.loc[X.index]\n",
    "\n",
    "    # Ajustar el modelo\n",
    "    modelos[f\"Modelo {i+1}\"] = sm.OLS(y, X).fit()\n",
    "\n",
    "# Crear tabla con coeficientes\n",
    "tabla_resultados = pd.DataFrame({\n",
    "    \"Variables\": [\"edad2\", \"edad²\", \"educ\", \"mujer\", \"horastrab\", \"desocupado\"]\n",
    "})\n",
    "\n",
    "for nombre, modelo in modelos.items():\n",
    "    tabla_resultados[nombre] = [modelo.params.get(var, None) for var in tabla_resultados[\"Variables\"]]\n",
    "\n",
    "# Mostrar la tabla de resultados\n",
    "print(tabla_resultados)"
   ]
  }
 ],
 "metadata": {
  "kernelspec": {
   "display_name": "Python 3 (ipykernel)",
   "language": "python",
   "name": "python3"
  },
  "language_info": {
   "codemirror_mode": {
    "name": "ipython",
    "version": 3
   },
   "file_extension": ".py",
   "mimetype": "text/x-python",
   "name": "python",
   "nbconvert_exporter": "python",
   "pygments_lexer": "ipython3",
   "version": "3.12.7"
  }
 },
 "nbformat": 4,
 "nbformat_minor": 5
}
