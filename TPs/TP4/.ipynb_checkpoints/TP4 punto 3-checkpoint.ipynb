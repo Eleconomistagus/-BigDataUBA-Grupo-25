{
 "cells": [
  {
   "cell_type": "code",
   "execution_count": 12,
   "id": "e511534e-2bdf-464e-a213-13fa582d29e1",
   "metadata": {},
   "outputs": [],
   "source": [
    "import pandas as pd\n",
    "\n",
    "# Leer el archivo Excel correctamente\n",
    "df = pd.read_excel(r\"C:\\Users\\El economista\\Documents\\GitHub\\-BigDataUBA-Grupo-25\\TPs\\TP4\\df_completo_original.xlsx\")"
   ]
  },
  {
   "cell_type": "code",
   "execution_count": 13,
   "id": "d610aca7-93e0-480b-adf4-b457f998708f",
   "metadata": {},
   "outputs": [],
   "source": [
    "# Crear la nueva columna \"edad²\" con los valores al cuadrado\n",
    "# Renombrar la columna \"edad\" a \"edad2\"\n",
    "df.rename(columns={\"ch06\": \"edad2\"}, inplace=True)\n",
    "df[\"edad²\"] = df[\"edad2\"] ** 2\n",
    "df[\"horastrab\"] = df[\"pp3e_tot\"] + df[\"pp3f_tot\"]\n",
    "factor_inflacion = 6.2  # Ajuste basado en inflación acumulada\n",
    "df[\"salario_semanal\"] = df[\"p21\"] / 4.33\n",
    "df.loc[df[\"ano4\"] == 2004, \"salario_semanal\"] *= factor_inflacion  # Ajuste de inflación\n",
    "# Función para calcular años de educación\n",
    "def calcular_educ(row):\n",
    "    if row[\"ch12\"] == 2:  # Primario\n",
    "        return row[\"ch14\"]\n",
    "    elif row[\"ch12\"] == 4:  # Secundario\n",
    "        return 12 if row[\"ch13\"] == 1 else row[\"ch14\"]\n",
    "    elif row[\"ch12\"] == 6:  # Terciario\n",
    "        return 15 if row[\"ch13\"] == 1 else 12 + row[\"ch14\"]\n",
    "    elif row[\"ch12\"] == 7:  # Universitario\n",
    "        return 17 if row[\"ch13\"] == 1 else 12 + row[\"ch14\"]\n",
    "    elif row[\"ch12\"] == 9:  # Educación especial\n",
    "        return None  # No comparable\n",
    "    else:\n",
    "        return None  # Ns/Nr u otro valor\n",
    "\n",
    "# Aplicar la función al DataFrame\n",
    "df[\"educ\"] = df.apply(calcular_educ, axis=1)\n",
    "df.rename(columns={\"ch06\": \"edad2\"}, inplace=True)\n",
    "# Crear la variable dependiente (y) a partir de PP04A\n",
    "df[\"desocupado\"] = (df[\"pp04a\"] == 2).astype(int)  # 1 = Desocupado, 0 = Ocupado"
   ]
  },
  {
   "cell_type": "code",
   "execution_count": 14,
   "id": "45b321d5-1db7-44cb-86e4-e4bd1d7a1c4a",
   "metadata": {},
   "outputs": [],
   "source": [
    "from sklearn.model_selection import train_test_split\n",
    "import numpy as np\n",
    "import pandas as pd\n",
    "\n",
    "# Crear la variable dependiente (y) a partir de PP04A\n",
    "df[\"desocupado\"] = (df[\"pp04a\"] == 2).astype(int)  # 1 = Desocupado, 0 = Ocupado\n",
    "\n",
    "# Variables predictoras (X) y dependiente (y)\n",
    "X = df[[\"edad2\", \"edad²\", \"educ\", \"salario_semanal\", \"horastrab\"]].copy()\n",
    "y = df[\"desocupado\"]\n",
    "\n",
    "# Agregar la columna de unos para la regresión\n",
    "X[\"constante\"] = np.ones(len(df))\n",
    "\n",
    "# Dividir en entrenamiento y testeo\n",
    "X_train, X_test, y_train, y_test = train_test_split(X, y, test_size=0.3, random_state=444)\n"
   ]
  },
  {
   "cell_type": "code",
   "execution_count": 15,
   "id": "d03971b1-cb34-4eb7-878c-25c285358a66",
   "metadata": {},
   "outputs": [],
   "source": [
    "# Calcular medias en cada grupo\n",
    "medias_train = X_train.mean()\n",
    "medias_test = X_test.mean()\n",
    "\n",
    "# Crear tabla con las diferencias\n",
    "diferencia_medias = pd.DataFrame({\"Train\": medias_train, \"Test\": medias_test})\n",
    "diferencia_medias[\"Diferencia\"] = diferencia_medias[\"Train\"] - diferencia_medias[\"Test\"]\n",
    "X_train = X_train.dropna()  # Elimina filas con NaN\n",
    "y_train = y_train.loc[X_train.index]"
   ]
  },
  {
   "cell_type": "code",
   "execution_count": 16,
   "id": "1d883897-d821-45e8-8ce6-e9a47c1f21cc",
   "metadata": {},
   "outputs": [],
   "source": [
    "import statsmodels.api as sm\n",
    "\n",
    "# Ajuste del modelo de regresión lineal\n",
    "modelo = sm.OLS(y_train, X_train).fit()"
   ]
  },
  {
   "cell_type": "code",
   "execution_count": 18,
   "id": "581d8e29-65ef-4f4c-9a4e-af690adeb7f4",
   "metadata": {},
   "outputs": [],
   "source": [
    "# Predicciones en el conjunto de test\n",
    "y_pred = modelo.predict(X_test)\n",
    "X_test = X_test.dropna()\n",
    "y_test = y_test.loc[X_test.index]  # Asegurar que los índices sigan alineados\n",
    "y_test = y_test.loc[X_test.index]  # Filtrar por el índice de X_test\n",
    "y_test = y_test.loc[X_test.index]\n",
    "# Evaluar desempeño del modelo\n",
    "from sklearn.metrics import mean_squared_error\n",
    "mse = mean_squared_error(y_test, y_pred)"
   ]
  },
  {
   "cell_type": "code",
   "execution_count": 19,
   "id": "a5db8c84-798b-431e-8992-8131643d5312",
   "metadata": {},
   "outputs": [],
   "source": [
    "import statsmodels.api as sm\n",
    "import pandas as pd\n",
    "from sklearn.impute import SimpleImputer\n",
    "\n",
    "# Asegurar que 'salario_semanal' no tenga NaN\n",
    "df = df.dropna(subset=[\"salario_semanal\"])\n",
    "\n",
    "# Crear variable mujer\n",
    "df[\"mujer\"] = (df[\"ch04\"] == 2).astype(int)  \n",
    "\n",
    "# Variables predictoras para cada modelo\n",
    "variables_modelos = [\n",
    "    [\"edad2\"],  # Modelo 1\n",
    "    [\"edad2\", \"edad²\"],  # Modelo 2\n",
    "    [\"edad2\", \"edad²\", \"educ\"],  # Modelo 3\n",
    "    [\"edad2\", \"edad²\", \"educ\", \"mujer\"],  # Modelo 4\n",
    "    [\"edad2\", \"edad²\", \"educ\", \"mujer\", \"horastrab\", \"desocupado\"]  # Modelo 5\n",
    "]\n",
    "\n",
    "# Limpiar NaN en variables predictoras\n",
    "imputer = SimpleImputer(strategy=\"mean\")\n",
    "df[[\"edad2\", \"edad²\", \"educ\", \"horastrab\", \"desocupado\"]] = imputer.fit_transform(df[[\"edad2\", \"edad²\", \"educ\", \"horastrab\", \"desocupado\"]])\n",
    "\n",
    "# Almacenar los modelos estimados\n",
    "modelos = {}\n",
    "\n",
    "for i, variables in enumerate(variables_modelos):\n",
    "    X = df[variables].copy()\n",
    "    X[\"constante\"] = 1  # Agregar constante\n",
    "    y = df[\"salario_semanal\"]\n",
    "\n",
    "    # Asegurar que los índices estén alineados\n",
    "    y = y.loc[X.index]\n",
    "\n",
    "    # Ajustar el modelo\n",
    "    modelos[f\"Modelo {i+1}\"] = sm.OLS(y, X).fit()\n",
    "\n",
    "# Crear tabla con coeficientes\n",
    "tabla_resultados = pd.DataFrame({\n",
    "    \"Variables\": [\"edad2\", \"edad²\", \"educ\", \"mujer\", \"horastrab\", \"desocupado\"]\n",
    "})\n",
    "\n",
    "for nombre, modelo in modelos.items():\n",
    "    tabla_resultados[nombre] = [modelo.params.get(var, None) for var in tabla_resultados[\"Variables\"]]"
   ]
  },
  {
   "cell_type": "code",
   "execution_count": 26,
   "id": "bd3f5be4-3afb-4b47-85ae-bba2a555abc3",
   "metadata": {},
   "outputs": [
    {
     "ename": "NameError",
     "evalue": "name 'test' is not defined",
     "output_type": "error",
     "traceback": [
      "\u001b[1;31m---------------------------------------------------------------------------\u001b[0m",
      "\u001b[1;31mNameError\u001b[0m                                 Traceback (most recent call last)",
      "Cell \u001b[1;32mIn[26], line 4\u001b[0m\n\u001b[0;32m      1\u001b[0m \u001b[38;5;28;01mimport\u001b[39;00m \u001b[38;5;21;01mstatsmodels\u001b[39;00m\u001b[38;5;21;01m.\u001b[39;00m\u001b[38;5;21;01mapi\u001b[39;00m \u001b[38;5;28;01mas\u001b[39;00m \u001b[38;5;21;01msm\u001b[39;00m\n\u001b[0;32m      3\u001b[0m \u001b[38;5;66;03m# Variables del modelo (ajusta según corresponda)\u001b[39;00m\n\u001b[1;32m----> 4\u001b[0m X_test \u001b[38;5;241m=\u001b[39m test[[\u001b[38;5;124m\"\u001b[39m\u001b[38;5;124medad2\u001b[39m\u001b[38;5;124m\"\u001b[39m, \u001b[38;5;124m\"\u001b[39m\u001b[38;5;124medad²\u001b[39m\u001b[38;5;124m\"\u001b[39m, \u001b[38;5;124m\"\u001b[39m\u001b[38;5;124meduc\u001b[39m\u001b[38;5;124m\"\u001b[39m, \u001b[38;5;124m\"\u001b[39m\u001b[38;5;124mmujer\u001b[39m\u001b[38;5;124m\"\u001b[39m, \u001b[38;5;124m\"\u001b[39m\u001b[38;5;124mhorastrab\u001b[39m\u001b[38;5;124m\"\u001b[39m, \u001b[38;5;124m\"\u001b[39m\u001b[38;5;124mdesocupado\u001b[39m\u001b[38;5;124m\"\u001b[39m]]\n\u001b[0;32m      5\u001b[0m X_test \u001b[38;5;241m=\u001b[39m sm\u001b[38;5;241m.\u001b[39madd_constant(X_test)  \u001b[38;5;66;03m# Agregar constante\u001b[39;00m\n\u001b[0;32m      6\u001b[0m train \u001b[38;5;241m=\u001b[39m df\u001b[38;5;241m.\u001b[39msample(frac\u001b[38;5;241m=\u001b[39m\u001b[38;5;241m0.7\u001b[39m, random_state\u001b[38;5;241m=\u001b[39m\u001b[38;5;241m42\u001b[39m)  \u001b[38;5;66;03m# 70% de datos para entrenamiento\u001b[39;00m\n",
      "\u001b[1;31mNameError\u001b[0m: name 'test' is not defined"
     ]
    }
   ],
   "source": [
    "import statsmodels.api as sm\n",
    "\n",
    "# Variables del modelo (ajusta según corresponda)\n",
    "X_test = test[[\"edad2\", \"edad²\", \"educ\", \"mujer\", \"horastrab\", \"desocupado\"]]\n",
    "X_test = sm.add_constant(X_test)  # Agregar constante\n",
    "train = df.sample(frac=0.7, random_state=42)  # 70% de datos para entrenamiento\n",
    "test = df.drop(train.index)  # El 30% restante para prueba\n",
    "# Usar los coeficientes estimados del modelo ajustado\n",
    "salario_predicho_test = modelo_5.predict(X_test)"
   ]
  },
  {
   "cell_type": "code",
   "execution_count": null,
   "id": "9a3bf481-5131-4e58-81a7-45d32ce834a8",
   "metadata": {},
   "outputs": [],
   "source": []
  },
  {
   "cell_type": "code",
   "execution_count": null,
   "id": "06fc431a-8b9f-4f1f-a9a1-9500f26096b6",
   "metadata": {},
   "outputs": [],
   "source": []
  }
 ],
 "metadata": {
  "kernelspec": {
   "display_name": "Python 3 (ipykernel)",
   "language": "python",
   "name": "python3"
  },
  "language_info": {
   "codemirror_mode": {
    "name": "ipython",
    "version": 3
   },
   "file_extension": ".py",
   "mimetype": "text/x-python",
   "name": "python",
   "nbconvert_exporter": "python",
   "pygments_lexer": "ipython3",
   "version": "3.12.7"
  }
 },
 "nbformat": 4,
 "nbformat_minor": 5
}
