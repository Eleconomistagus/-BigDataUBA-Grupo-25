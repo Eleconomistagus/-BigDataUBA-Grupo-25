{
 "cells": [
  {
   "cell_type": "code",
   "execution_count": 2,
   "id": "4431beb8-906d-4be4-b9af-81abb97342b3",
   "metadata": {},
   "outputs": [],
   "source": [
    "import pandas as pd\n",
    "\n",
    "# Leer el archivo Excel correctamente\n",
    "df = pd.read_excel(r\"C:\\Users\\El economista\\Documents\\GitHub\\-BigDataUBA-Grupo-25\\TPs\\TP4\\df_completo_original.xlsx\")"
   ]
  },
  {
   "cell_type": "code",
   "execution_count": 45,
   "id": "c3a8ba74-8262-49cd-b374-c41e26bcb3f8",
   "metadata": {},
   "outputs": [
    {
     "ename": "NameError",
     "evalue": "name 'df' is not defined",
     "output_type": "error",
     "traceback": [
      "\u001b[1;31m---------------------------------------------------------------------------\u001b[0m",
      "\u001b[1;31mNameError\u001b[0m                                 Traceback (most recent call last)",
      "Cell \u001b[1;32mIn[45], line 3\u001b[0m\n\u001b[0;32m      1\u001b[0m \u001b[38;5;66;03m# Crear la nueva columna \"edad²\" con los valores al cuadrado\u001b[39;00m\n\u001b[0;32m      2\u001b[0m \u001b[38;5;66;03m# Renombrar la columna \"edad\" a \"edad2\"\u001b[39;00m\n\u001b[1;32m----> 3\u001b[0m df\u001b[38;5;241m.\u001b[39mrename(columns\u001b[38;5;241m=\u001b[39m{\u001b[38;5;124m\"\u001b[39m\u001b[38;5;124mch06\u001b[39m\u001b[38;5;124m\"\u001b[39m: \u001b[38;5;124m\"\u001b[39m\u001b[38;5;124medad2\u001b[39m\u001b[38;5;124m\"\u001b[39m}, inplace\u001b[38;5;241m=\u001b[39m\u001b[38;5;28;01mTrue\u001b[39;00m)\n\u001b[0;32m      4\u001b[0m df[\u001b[38;5;124m\"\u001b[39m\u001b[38;5;124medad²\u001b[39m\u001b[38;5;124m\"\u001b[39m] \u001b[38;5;241m=\u001b[39m df[\u001b[38;5;124m\"\u001b[39m\u001b[38;5;124medad2\u001b[39m\u001b[38;5;124m\"\u001b[39m] \u001b[38;5;241m*\u001b[39m\u001b[38;5;241m*\u001b[39m \u001b[38;5;241m2\u001b[39m\n\u001b[0;32m      5\u001b[0m df[\u001b[38;5;124m\"\u001b[39m\u001b[38;5;124mpp3e_tot\u001b[39m\u001b[38;5;124m\"\u001b[39m] \u001b[38;5;241m=\u001b[39m df[\u001b[38;5;124m\"\u001b[39m\u001b[38;5;124mpp3e_tot\u001b[39m\u001b[38;5;124m\"\u001b[39m]\u001b[38;5;241m.\u001b[39mfillna(\u001b[38;5;241m0\u001b[39m)\n",
      "\u001b[1;31mNameError\u001b[0m: name 'df' is not defined"
     ]
    }
   ],
   "source": [
    "# Crear la nueva columna \"edad²\" con los valores al cuadrado\n",
    "# Renombrar la columna \"edad\" a \"edad2\"\n",
    "df.rename(columns={\"ch06\": \"edad2\"}, inplace=True)\n",
    "df[\"edad²\"] = df[\"edad2\"] ** 2\n",
    "df[\"pp3e_tot\"] = df[\"pp3e_tot\"].fillna(0)\n",
    "df[\"pp3f_tot\"] = df[\"pp3f_tot\"].fillna(0)\n",
    "df[\"horastrab\"] = df[\"pp3e_tot\"] + df[\"pp3f_tot\"]\n",
    "df.loc[df[\"horastrab\"] > 100, \"horastrab\"] = df[\"horastrab\"].median()  # Corregir valores extremos\n",
    "factor_inflacion = 6.2  # Ajuste basado en inflación acumulada\n",
    "df[\"salario_semanal\"] = df[\"p21\"] / 4.33\n",
    "df = df[df[\"salario_semanal\"] < df[\"salario_semanal\"].quantile(0.99)]  # Filtrar el 1% más alto\n",
    "df.loc[df[\"ano4\"] == 2004, \"salario_semanal\"] *= factor_inflacion  # Ajuste de inflación\n",
    "def calcular_educ(row):\n",
    "    if row[\"ch12\"] == 2:  # Primario\n",
    "        return row[\"ch14\"]\n",
    "    elif row[\"ch12\"] == 4:  # Secundario\n",
    "        return 12 if row[\"ch13\"] == 1 else row[\"ch14\"]\n",
    "    elif row[\"ch12\"] in [6, 7]:  # Terciario o universitario\n",
    "        return 17 if row[\"ch13\"] == 1 else 12 + row[\"ch14\"]\n",
    "    elif row[\"ch12\"] == 9:  # Educación especial\n",
    "        return np.nan  # Evitar None, usar NaN\n",
    "    else:\n",
    "        return np.nan  # Ns/Nr u otro valor\n",
    "df[\"educ\"] = df.apply(calcular_educ, axis=1)  # Aplicar la función primero\n",
    "df[\"educ\"] = df[\"educ\"].fillna(df[\"educ\"].median())  # Rellenar NaN después\n",
    "df.rename(columns={\"ch06\": \"edad2\"}, inplace=True)\n",
    "# Crear la variable dependiente (y) a partir de PP04A\n",
    "df[\"desocupado\"] = (df[\"estado\"] == 2).astype(int)  # 1 = Desocupado, 0 = Ocupado"
   ]
  },
  {
   "cell_type": "code",
   "execution_count": 4,
   "id": "51ca725c-5bbf-48f6-a2f1-9abb148a7cd8",
   "metadata": {},
   "outputs": [],
   "source": [
    "from sklearn.model_selection import train_test_split\n",
    "import numpy as np\n",
    "import pandas as pd\n",
    "\n",
    "# Crear la variable dependiente (y) a partir de PP04A\n",
    "df[\"desocupado\"] = (df[\"pp04a\"] == 2).astype(int)  # 1 = Desocupado, 0 = Ocupado\n",
    "\n",
    "# Variables predictoras (X) y dependiente (y)\n",
    "X = df[[\"edad2\", \"edad²\", \"educ\", \"salario_semanal\", \"horastrab\"]].copy()\n",
    "y = df[\"desocupado\"]\n",
    "\n",
    "# Agregar la columna de unos para la regresión\n",
    "X[\"constante\"] = np.ones(len(df))\n",
    "\n",
    "# Dividir en entrenamiento y testeo\n",
    "X_train, X_test, y_train, y_test = train_test_split(X, y, test_size=0.3, random_state=444)"
   ]
  },
  {
   "cell_type": "code",
   "execution_count": 5,
   "id": "811833ea-9da7-4fb4-9b57-c106601db51b",
   "metadata": {},
   "outputs": [],
   "source": [
    "import statsmodels.api as sm\n",
    "import pandas as pd\n",
    "from sklearn.impute import SimpleImputer\n",
    "\n",
    "# Asegurar que 'salario_semanal' no tenga NaN\n",
    "df = df.dropna(subset=[\"salario_semanal\"])\n",
    "\n",
    "# Crear variable mujer\n",
    "df[\"mujer\"] = (df[\"ch04\"] == 2).astype(int)  \n",
    "\n",
    "# Variables predictoras para cada modelo\n",
    "variables_modelos = [\n",
    "    [\"edad2\"],  # Modelo 1\n",
    "    [\"edad2\", \"edad²\"],  # Modelo 2\n",
    "    [\"edad2\", \"edad²\", \"educ\"],  # Modelo 3\n",
    "    [\"edad2\", \"edad²\", \"educ\", \"mujer\"],  # Modelo 4\n",
    "    [\"edad2\", \"edad²\", \"educ\", \"mujer\", \"horastrab\", \"desocupado\"]  # Modelo 5\n",
    "]\n",
    "\n",
    "# Limpiar NaN en variables predictoras\n",
    "imputer = SimpleImputer(strategy=\"median\")\n",
    "df[[\"edad2\", \"edad²\", \"educ\", \"horastrab\", \"desocupado\"]] = imputer.fit_transform(df[[\"edad2\", \"edad²\", \"educ\", \"horastrab\", \"desocupado\"]])\n",
    "\n",
    "# Almacenar los modelos estimados\n",
    "modelos = {}\n",
    "\n",
    "for i, variables in enumerate(variables_modelos):\n",
    "    X = df[variables].copy()\n",
    "    X[\"constante\"] = 1  # Agregar constante\n",
    "    y = df[\"salario_semanal\"]\n",
    "\n",
    "    # Asegurar que los índices estén alineados\n",
    "    y = y.loc[X.index]\n",
    "\n",
    "    # Ajustar el modelo\n",
    "    modelos[f\"Modelo {i+1}\"] = sm.OLS(y, X).fit()\n",
    "\n",
    "# Crear tabla con coeficientes\n",
    "tabla_resultados = pd.DataFrame({\n",
    "    \"Variables\": [\"edad2\", \"edad²\", \"educ\", \"mujer\", \"horastrab\", \"desocupado\"]\n",
    "})\n",
    "\n",
    "for nombre, modelo in modelos.items():\n",
    "    tabla_resultados[nombre] = [modelo.params.get(var, None) for var in tabla_resultados[\"Variables\"]]"
   ]
  },
  {
   "cell_type": "code",
   "execution_count": 6,
   "id": "c4a361c4-2c17-4dd2-853b-f047afb031d3",
   "metadata": {},
   "outputs": [],
   "source": [
    "from sklearn.model_selection import train_test_split\n",
    "import numpy as np\n",
    "import pandas as pd\n",
    "\n",
    "# Crear la variable dependiente (y) a partir de PP04A\n",
    "df[\"desocupado\"] = (df[\"pp04a\"] == 2).astype(int)  # 1 = Desocupado, 0 = Ocupado\n",
    "\n",
    "# Variables predictoras (X) y dependiente (y)\n",
    "X = df[[\"edad2\", \"edad²\", \"educ\", \"salario_semanal\", \"horastrab\"]].copy()\n",
    "y = df[\"desocupado\"]\n",
    "\n",
    "# Agregar la columna de unos para la regresión\n",
    "X[\"constante\"] = np.ones(len(df))\n",
    "\n",
    "# Dividir en entrenamiento y testeo\n",
    "X_train, X_test, y_train, y_test = train_test_split(X, y, test_size=0.3, random_state=444)"
   ]
  },
  {
   "cell_type": "code",
   "execution_count": 7,
   "id": "f935a7a3-5c41-4a3a-a792-9f5eedcabff4",
   "metadata": {},
   "outputs": [],
   "source": [
    "import statsmodels.api as sm\n",
    "modelo_5 = sm.OLS(y_train, sm.add_constant(X_train)).fit()\n",
    "# Ajuste del modelo de regresión lineal\n",
    "modelo = sm.OLS(y_train, X_train).fit()\n"
   ]
  },
  {
   "cell_type": "code",
   "execution_count": 11,
   "id": "91f1a1eb-ad77-4049-a4ff-0f914eb394db",
   "metadata": {},
   "outputs": [],
   "source": [
    "from sklearn.model_selection import train_test_split\n",
    "from sklearn.preprocessing import StandardScaler\n",
    "from sklearn.linear_model import LogisticRegression\n",
    "from sklearn.neighbors import KNeighborsClassifier\n",
    "from sklearn.metrics import confusion_matrix, roc_curve, auc, accuracy_score\n",
    "import matplotlib.pyplot as plt\n",
    "import seaborn as sns"
   ]
  },
  {
   "cell_type": "code",
   "execution_count": 12,
   "id": "fb1e3fc1-c348-43d5-89b5-5140fcd789ee",
   "metadata": {},
   "outputs": [],
   "source": [
    "X_train, X_test, y_train, y_test = train_test_split(X, y, test_size=0.2, random_state=42)"
   ]
  },
  {
   "cell_type": "code",
   "execution_count": 13,
   "id": "dc60b595-85c5-459d-8029-9ddde4b20733",
   "metadata": {},
   "outputs": [],
   "source": [
    "scaler = StandardScaler()\n",
    "X_train_scaled = scaler.fit_transform(X_train)\n",
    "X_test_scaled = scaler.transform(X_test)"
   ]
  },
  {
   "cell_type": "code",
   "execution_count": 14,
   "id": "545b3852-c2e5-4904-8e44-41f7a3207b7c",
   "metadata": {},
   "outputs": [],
   "source": [
    "logit_model = LogisticRegression()\n",
    "logit_model.fit(X_train_scaled, y_train)\n",
    "y_pred_logit = logit_model.predict(X_test_scaled)\n",
    "y_prob_logit = logit_model.predict_proba(X_test_scaled)[:, 1]  # Probabilidad para ROC"
   ]
  },
  {
   "cell_type": "code",
   "execution_count": 15,
   "id": "395f427e-b522-436a-be4b-cf877b1aaae2",
   "metadata": {},
   "outputs": [],
   "source": [
    "knn_model = KNeighborsClassifier(n_neighbors=5)\n",
    "knn_model.fit(X_train_scaled, y_train)\n",
    "y_pred_knn = knn_model.predict(X_test_scaled)\n",
    "y_prob_knn = knn_model.predict_proba(X_test_scaled)[:, 1]  # Probabilidad para ROC"
   ]
  },
  {
   "cell_type": "code",
   "execution_count": 16,
   "id": "bc286ac4-909c-4633-bf7f-93099fa135f8",
   "metadata": {},
   "outputs": [
    {
     "name": "stdout",
     "output_type": "stream",
     "text": [
      "Matriz de confusión - Regresión Logística:\n",
      "[[11401  1152]\n",
      " [ 1422  4110]]\n",
      "\n",
      "Matriz de confusión - KNN:\n",
      "[[11485  1068]\n",
      " [  762  4770]]\n"
     ]
    }
   ],
   "source": [
    "print(\"Matriz de confusión - Regresión Logística:\")\n",
    "print(confusion_matrix(y_test, y_pred_logit))\n",
    "\n",
    "print(\"\\nMatriz de confusión - KNN:\")\n",
    "print(confusion_matrix(y_test, y_pred_knn))"
   ]
  },
  {
   "cell_type": "code",
   "execution_count": 17,
   "id": "a523ffeb-71ea-4c4a-b1a6-c13418a083cd",
   "metadata": {},
   "outputs": [
    {
     "data": {
      "image/png": "[encoded data removed]",
      "text/plain": [
       "<Figure size 800x600 with 1 Axes>"
      ]
     },
     "metadata": {},
     "output_type": "display_data"
    }
   ],
   "source": [
    "fpr_logit, tpr_logit, _ = roc_curve(y_test, y_prob_logit)\n",
    "auc_logit = auc(fpr_logit, tpr_logit)\n",
    "\n",
    "fpr_knn, tpr_knn, _ = roc_curve(y_test, y_prob_knn)\n",
    "auc_knn = auc(fpr_knn, tpr_knn)\n",
    "\n",
    "plt.figure(figsize=(8,6))\n",
    "plt.plot(fpr_logit, tpr_logit, label=f\"Logit (AUC = {auc_logit:.2f})\")\n",
    "plt.plot(fpr_knn, tpr_knn, label=f\"KNN (AUC = {auc_knn:.2f})\")\n",
    "plt.plot([0,1], [0,1], 'k--')\n",
    "plt.xlabel(\"False Positive Rate\")\n",
    "plt.ylabel(\"True Positive Rate\")\n",
    "plt.title(\"Curva ROC\")\n",
    "plt.legend()\n",
    "plt.show()"
   ]
  },
  {
   "cell_type": "code",
   "execution_count": 18,
   "id": "23b19a33-257a-4042-8334-2d27e5a19f57",
   "metadata": {},
   "outputs": [
    {
     "name": "stdout",
     "output_type": "stream",
     "text": [
      "Accuracy - Regresión Logística: 0.86\n",
      "Accuracy - KNN: 0.90\n"
     ]
    }
   ],
   "source": [
    "accuracy_logit = accuracy_score(y_test, y_pred_logit)\n",
    "accuracy_knn = accuracy_score(y_test, y_pred_knn)\n",
    "\n",
    "print(f\"Accuracy - Regresión Logística: {accuracy_logit:.2f}\")\n",
    "print(f\"Accuracy - KNN: {accuracy_knn:.2f}\")"
   ]
  },
  {
   "cell_type": "code",
   "execution_count": null,
   "id": "b5c96841-c611-4ca7-9ade-9351443d856a",
   "metadata": {},
   "outputs": [],
   "source": [
    "import pandas as pd\n",
    "\n",
    "# Cargar el archivo\n",
    "df_norespondieron = pd.read_excel(r\"C:\\Users\\El economista\\Documents\\GitHub\\-BigDataUBA-Grupo-25\\TPs\\TP4\\df_completo_original.xlsx\")"
   ]
  },
  {
   "cell_type": "code",
   "execution_count": 218,
   "id": "2726c648-ef82-458f-8f90-640ed9bfcbf8",
   "metadata": {},
   "outputs": [],
   "source": [
    "import pandas as pd\n",
    "# Crear la nueva columna \"edad²\" con los valores al cuadrado\n",
    "# Renombrar la columna \"edad\" a \"edad2\"\n",
    "df_norespondieron.rename(columns={\"ch06\": \"edad2\"}, inplace=True)\n",
    "df_norespondieron[\"edad²\"] = df_norespondieron[\"edad2\"] ** 2\n",
    "df_norespondieron[\"pp3e_tot\"] = df_norespondieron[\"pp3e_tot\"].fillna(0)\n",
    "df_norespondieron[\"pp3f_tot\"] = df_norespondieron[\"pp3f_tot\"].fillna(0)\n",
    "df_norespondieron[\"horastrab\"] = df_norespondieron[\"pp3e_tot\"] + df_norespondieron[\"pp3f_tot\"]\n",
    "# Aplicar el coeficiente de ajuste\n",
    "df_norespondieron.loc[df_norespondieron[\"ano4\"] == 2004, \"p21\"] *= 314.621568\n",
    "df_norespondieron[\"p21\"] = df_norespondieron[\"p21\"].astype(float)  # Convertir a float antes de modificar\n",
    "# Calcular el salario semanal\n",
    "df_norespondieron[\"salario_semanal\"] = df_norespondieron[\"p21\"] / 40\n",
    "# Función para calcular años de educación\n",
    "def calcular_educ(row):\n",
    "    if row[\"ch12\"] == 2:  # Primario\n",
    "        return row[\"ch14\"]\n",
    "    elif row[\"ch12\"] == 4:  # Secundario\n",
    "        return 12 if row[\"ch13\"] == 1 else row[\"ch14\"]\n",
    "    elif row[\"ch12\"] == 6:  # Terciario\n",
    "        return 15 if row[\"ch13\"] == 1 else 12 + row[\"ch14\"]\n",
    "    elif row[\"ch12\"] == 7:  # Universitario\n",
    "        return 17 if row[\"ch13\"] == 1 else 12 + row[\"ch14\"]\n",
    "    elif row[\"ch12\"] == 9:  # Educación especial\n",
    "        return None  # No comparable\n",
    "    else:\n",
    "        return None  # Ns/Nr u otro valor\n",
    "\n",
    "# Aplicar la función al DataFrame\n",
    "df_norespondieron[\"educ\"] = df_norespondieron.apply(calcular_educ, axis=1)\n",
    "# Crear variable mujer\n",
    "df_norespondieron[\"mujer\"] = (df_norespondieron[\"ch04\"] == 2).astype(int) \n",
    "df_train = df_norespondieron[df_norespondieron[\"estado\"].isin([1, 2])].copy()  # Filtrar solo ocupados y desocupados"
   ]
  },
  {
   "cell_type": "code",
   "execution_count": 219,
   "id": "1c7cc7d2-9347-4a4c-9051-5ff33ded9745",
   "metadata": {},
   "outputs": [],
   "source": [
    "import pandas as pd\n",
    "# 1. Definir las columnas features (sin incluir la variable objetivo 'desocupado')\n",
    "columnas_features = [\"edad2\", \"educ\", \"mujer\", \"horastrab\"]\n",
    "\n",
    "X_train = df_train[columnas_features]\n",
    "X_train.loc[:, \"educ\"] = X_train[\"educ\"].fillna(0)\n",
    "X_norespondieron.loc[:, \"educ\"] = X_norespondieron[\"educ\"].fillna(0)\n",
    "y_train = df_train[\"estado\"].map({1: 0, 2: 1})  # Ocupado → 0, Desocupado → 1"
   ]
  },
  {
   "cell_type": "code",
   "execution_count": 220,
   "id": "c0a373b7-339b-4160-b9f8-88fb01326263",
   "metadata": {},
   "outputs": [],
   "source": [
    "import numpy as np\n",
    "X_norespondieron = df_norespondieron[columnas_features].copy()\n",
    "X_norespondieron = X_norespondieron.copy()  # Asegura que trabajamos sobre una copia real del DataFrame\n",
    "X_norespondieron[\"educ\"] = X_norespondieron[\"educ\"].fillna(0)  # Reemplaza NaN por 0\n",
    "X_norespondieron_scaled = scaler.transform(X_norespondieron)\n"
   ]
  },
  {
   "cell_type": "code",
   "execution_count": 221,
   "id": "e135d0e7-d1e9-4e22-98b6-dfff57e0f577",
   "metadata": {},
   "outputs": [
    {
     "data": {
      "text/html": [
       "<style>#sk-container-id-20 {\n",
       "  /* Definition of color scheme common for light and dark mode */\n",
       "  --sklearn-color-text: black;\n",
       "  --sklearn-color-line: gray;\n",
       "  /* Definition of color scheme for unfitted estimators */\n",
       "  --sklearn-color-unfitted-level-0: #fff5e6;\n",
       "  --sklearn-color-unfitted-level-1: #f6e4d2;\n",
       "  --sklearn-color-unfitted-level-2: #ffe0b3;\n",
       "  --sklearn-color-unfitted-level-3: chocolate;\n",
       "  /* Definition of color scheme for fitted estimators */\n",
       "  --sklearn-color-fitted-level-0: #f0f8ff;\n",
       "  --sklearn-color-fitted-level-1: #d4ebff;\n",
       "  --sklearn-color-fitted-level-2: #b3dbfd;\n",
       "  --sklearn-color-fitted-level-3: cornflowerblue;\n",
       "\n",
       "  /* Specific color for light theme */\n",
       "  --sklearn-color-text-on-default-background: var(--sg-text-color, var(--theme-code-foreground, var(--jp-content-font-color1, black)));\n",
       "  --sklearn-color-background: var(--sg-background-color, var(--theme-background, var(--jp-layout-color0, white)));\n",
       "  --sklearn-color-border-box: var(--sg-text-color, var(--theme-code-foreground, var(--jp-content-font-color1, black)));\n",
       "  --sklearn-color-icon: #696969;\n",
       "\n",
       "  @media (prefers-color-scheme: dark) {\n",
       "    /* Redefinition of color scheme for dark theme */\n",
       "    --sklearn-color-text-on-default-background: var(--sg-text-color, var(--theme-code-foreground, var(--jp-content-font-color1, white)));\n",
       "    --sklearn-color-background: var(--sg-background-color, var(--theme-background, var(--jp-layout-color0, #111)));\n",
       "    --sklearn-color-border-box: var(--sg-text-color, var(--theme-code-foreground, var(--jp-content-font-color1, white)));\n",
       "    --sklearn-color-icon: #878787;\n",
       "  }\n",
       "}\n",
       "\n",
       "#sk-container-id-20 {\n",
       "  color: var(--sklearn-color-text);\n",
       "}\n",
       "\n",
       "#sk-container-id-20 pre {\n",
       "  padding: 0;\n",
       "}\n",
       "\n",
       "#sk-container-id-20 input.sk-hidden--visually {\n",
       "  border: 0;\n",
       "  clip: rect(1px 1px 1px 1px);\n",
       "  clip: rect(1px, 1px, 1px, 1px);\n",
       "  height: 1px;\n",
       "  margin: -1px;\n",
       "  overflow: hidden;\n",
       "  padding: 0;\n",
       "  position: absolute;\n",
       "  width: 1px;\n",
       "}\n",
       "\n",
       "#sk-container-id-20 div.sk-dashed-wrapped {\n",
       "  border: 1px dashed var(--sklearn-color-line);\n",
       "  margin: 0 0.4em 0.5em 0.4em;\n",
       "  box-sizing: border-box;\n",
       "  padding-bottom: 0.4em;\n",
       "  background-color: var(--sklearn-color-background);\n",
       "}\n",
       "\n",
       "#sk-container-id-20 div.sk-container {\n",
       "  /* jupyter's `normalize.less` sets `[hidden] { display: none; }`\n",
       "     but bootstrap.min.css set `[hidden] { display: none !important; }`\n",
       "     so we also need the `!important` here to be able to override the\n",
       "     default hidden behavior on the sphinx rendered scikit-learn.org.\n",
       "     See: https://github.com/scikit-learn/scikit-learn/issues/21755 */\n",
       "  display: inline-block !important;\n",
       "  position: relative;\n",
       "}\n",
       "\n",
       "#sk-container-id-20 div.sk-text-repr-fallback {\n",
       "  display: none;\n",
       "}\n",
       "\n",
       "div.sk-parallel-item,\n",
       "div.sk-serial,\n",
       "div.sk-item {\n",
       "  /* draw centered vertical line to link estimators */\n",
       "  background-image: linear-gradient(var(--sklearn-color-text-on-default-background), var(--sklearn-color-text-on-default-background));\n",
       "  background-size: 2px 100%;\n",
       "  background-repeat: no-repeat;\n",
       "  background-position: center center;\n",
       "}\n",
       "\n",
       "/* Parallel-specific style estimator block */\n",
       "\n",
       "#sk-container-id-20 div.sk-parallel-item::after {\n",
       "  content: \"\";\n",
       "  width: 100%;\n",
       "  border-bottom: 2px solid var(--sklearn-color-text-on-default-background);\n",
       "  flex-grow: 1;\n",
       "}\n",
       "\n",
       "#sk-container-id-20 div.sk-parallel {\n",
       "  display: flex;\n",
       "  align-items: stretch;\n",
       "  justify-content: center;\n",
       "  background-color: var(--sklearn-color-background);\n",
       "  position: relative;\n",
       "}\n",
       "\n",
       "#sk-container-id-20 div.sk-parallel-item {\n",
       "  display: flex;\n",
       "  flex-direction: column;\n",
       "}\n",
       "\n",
       "#sk-container-id-20 div.sk-parallel-item:first-child::after {\n",
       "  align-self: flex-end;\n",
       "  width: 50%;\n",
       "}\n",
       "\n",
       "#sk-container-id-20 div.sk-parallel-item:last-child::after {\n",
       "  align-self: flex-start;\n",
       "  width: 50%;\n",
       "}\n",
       "\n",
       "#sk-container-id-20 div.sk-parallel-item:only-child::after {\n",
       "  width: 0;\n",
       "}\n",
       "\n",
       "/* Serial-specific style estimator block */\n",
       "\n",
       "#sk-container-id-20 div.sk-serial {\n",
       "  display: flex;\n",
       "  flex-direction: column;\n",
       "  align-items: center;\n",
       "  background-color: var(--sklearn-color-background);\n",
       "  padding-right: 1em;\n",
       "  padding-left: 1em;\n",
       "}\n",
       "\n",
       "\n",
       "/* Toggleable style: style used for estimator/Pipeline/ColumnTransformer box that is\n",
       "clickable and can be expanded/collapsed.\n",
       "- Pipeline and ColumnTransformer use this feature and define the default style\n",
       "- Estimators will overwrite some part of the style using the `sk-estimator` class\n",
       "*/\n",
       "\n",
       "/* Pipeline and ColumnTransformer style (default) */\n",
       "\n",
       "#sk-container-id-20 div.sk-toggleable {\n",
       "  /* Default theme specific background. It is overwritten whether we have a\n",
       "  specific estimator or a Pipeline/ColumnTransformer */\n",
       "  background-color: var(--sklearn-color-background);\n",
       "}\n",
       "\n",
       "/* Toggleable label */\n",
       "#sk-container-id-20 label.sk-toggleable__label {\n",
       "  cursor: pointer;\n",
       "  display: block;\n",
       "  width: 100%;\n",
       "  margin-bottom: 0;\n",
       "  padding: 0.5em;\n",
       "  box-sizing: border-box;\n",
       "  text-align: center;\n",
       "}\n",
       "\n",
       "#sk-container-id-20 label.sk-toggleable__label-arrow:before {\n",
       "  /* Arrow on the left of the label */\n",
       "  content: \"▸\";\n",
       "  float: left;\n",
       "  margin-right: 0.25em;\n",
       "  color: var(--sklearn-color-icon);\n",
       "}\n",
       "\n",
       "#sk-container-id-20 label.sk-toggleable__label-arrow:hover:before {\n",
       "  color: var(--sklearn-color-text);\n",
       "}\n",
       "\n",
       "/* Toggleable content - dropdown */\n",
       "\n",
       "#sk-container-id-20 div.sk-toggleable__content {\n",
       "  max-height: 0;\n",
       "  max-width: 0;\n",
       "  overflow: hidden;\n",
       "  text-align: left;\n",
       "  /* unfitted */\n",
       "  background-color: var(--sklearn-color-unfitted-level-0);\n",
       "}\n",
       "\n",
       "#sk-container-id-20 div.sk-toggleable__content.fitted {\n",
       "  /* fitted */\n",
       "  background-color: var(--sklearn-color-fitted-level-0);\n",
       "}\n",
       "\n",
       "#sk-container-id-20 div.sk-toggleable__content pre {\n",
       "  margin: 0.2em;\n",
       "  border-radius: 0.25em;\n",
       "  color: var(--sklearn-color-text);\n",
       "  /* unfitted */\n",
       "  background-color: var(--sklearn-color-unfitted-level-0);\n",
       "}\n",
       "\n",
       "#sk-container-id-20 div.sk-toggleable__content.fitted pre {\n",
       "  /* unfitted */\n",
       "  background-color: var(--sklearn-color-fitted-level-0);\n",
       "}\n",
       "\n",
       "#sk-container-id-20 input.sk-toggleable__control:checked~div.sk-toggleable__content {\n",
       "  /* Expand drop-down */\n",
       "  max-height: 200px;\n",
       "  max-width: 100%;\n",
       "  overflow: auto;\n",
       "}\n",
       "\n",
       "#sk-container-id-20 input.sk-toggleable__control:checked~label.sk-toggleable__label-arrow:before {\n",
       "  content: \"▾\";\n",
       "}\n",
       "\n",
       "/* Pipeline/ColumnTransformer-specific style */\n",
       "\n",
       "#sk-container-id-20 div.sk-label input.sk-toggleable__control:checked~label.sk-toggleable__label {\n",
       "  color: var(--sklearn-color-text);\n",
       "  background-color: var(--sklearn-color-unfitted-level-2);\n",
       "}\n",
       "\n",
       "#sk-container-id-20 div.sk-label.fitted input.sk-toggleable__control:checked~label.sk-toggleable__label {\n",
       "  background-color: var(--sklearn-color-fitted-level-2);\n",
       "}\n",
       "\n",
       "/* Estimator-specific style */\n",
       "\n",
       "/* Colorize estimator box */\n",
       "#sk-container-id-20 div.sk-estimator input.sk-toggleable__control:checked~label.sk-toggleable__label {\n",
       "  /* unfitted */\n",
       "  background-color: var(--sklearn-color-unfitted-level-2);\n",
       "}\n",
       "\n",
       "#sk-container-id-20 div.sk-estimator.fitted input.sk-toggleable__control:checked~label.sk-toggleable__label {\n",
       "  /* fitted */\n",
       "  background-color: var(--sklearn-color-fitted-level-2);\n",
       "}\n",
       "\n",
       "#sk-container-id-20 div.sk-label label.sk-toggleable__label,\n",
       "#sk-container-id-20 div.sk-label label {\n",
       "  /* The background is the default theme color */\n",
       "  color: var(--sklearn-color-text-on-default-background);\n",
       "}\n",
       "\n",
       "/* On hover, darken the color of the background */\n",
       "#sk-container-id-20 div.sk-label:hover label.sk-toggleable__label {\n",
       "  color: var(--sklearn-color-text);\n",
       "  background-color: var(--sklearn-color-unfitted-level-2);\n",
       "}\n",
       "\n",
       "/* Label box, darken color on hover, fitted */\n",
       "#sk-container-id-20 div.sk-label.fitted:hover label.sk-toggleable__label.fitted {\n",
       "  color: var(--sklearn-color-text);\n",
       "  background-color: var(--sklearn-color-fitted-level-2);\n",
       "}\n",
       "\n",
       "/* Estimator label */\n",
       "\n",
       "#sk-container-id-20 div.sk-label label {\n",
       "  font-family: monospace;\n",
       "  font-weight: bold;\n",
       "  display: inline-block;\n",
       "  line-height: 1.2em;\n",
       "}\n",
       "\n",
       "#sk-container-id-20 div.sk-label-container {\n",
       "  text-align: center;\n",
       "}\n",
       "\n",
       "/* Estimator-specific */\n",
       "#sk-container-id-20 div.sk-estimator {\n",
       "  font-family: monospace;\n",
       "  border: 1px dotted var(--sklearn-color-border-box);\n",
       "  border-radius: 0.25em;\n",
       "  box-sizing: border-box;\n",
       "  margin-bottom: 0.5em;\n",
       "  /* unfitted */\n",
       "  background-color: var(--sklearn-color-unfitted-level-0);\n",
       "}\n",
       "\n",
       "#sk-container-id-20 div.sk-estimator.fitted {\n",
       "  /* fitted */\n",
       "  background-color: var(--sklearn-color-fitted-level-0);\n",
       "}\n",
       "\n",
       "/* on hover */\n",
       "#sk-container-id-20 div.sk-estimator:hover {\n",
       "  /* unfitted */\n",
       "  background-color: var(--sklearn-color-unfitted-level-2);\n",
       "}\n",
       "\n",
       "#sk-container-id-20 div.sk-estimator.fitted:hover {\n",
       "  /* fitted */\n",
       "  background-color: var(--sklearn-color-fitted-level-2);\n",
       "}\n",
       "\n",
       "/* Specification for estimator info (e.g. \"i\" and \"?\") */\n",
       "\n",
       "/* Common style for \"i\" and \"?\" */\n",
       "\n",
       ".sk-estimator-doc-link,\n",
       "a:link.sk-estimator-doc-link,\n",
       "a:visited.sk-estimator-doc-link {\n",
       "  float: right;\n",
       "  font-size: smaller;\n",
       "  line-height: 1em;\n",
       "  font-family: monospace;\n",
       "  background-color: var(--sklearn-color-background);\n",
       "  border-radius: 1em;\n",
       "  height: 1em;\n",
       "  width: 1em;\n",
       "  text-decoration: none !important;\n",
       "  margin-left: 1ex;\n",
       "  /* unfitted */\n",
       "  border: var(--sklearn-color-unfitted-level-1) 1pt solid;\n",
       "  color: var(--sklearn-color-unfitted-level-1);\n",
       "}\n",
       "\n",
       ".sk-estimator-doc-link.fitted,\n",
       "a:link.sk-estimator-doc-link.fitted,\n",
       "a:visited.sk-estimator-doc-link.fitted {\n",
       "  /* fitted */\n",
       "  border: var(--sklearn-color-fitted-level-1) 1pt solid;\n",
       "  color: var(--sklearn-color-fitted-level-1);\n",
       "}\n",
       "\n",
       "/* On hover */\n",
       "div.sk-estimator:hover .sk-estimator-doc-link:hover,\n",
       ".sk-estimator-doc-link:hover,\n",
       "div.sk-label-container:hover .sk-estimator-doc-link:hover,\n",
       ".sk-estimator-doc-link:hover {\n",
       "  /* unfitted */\n",
       "  background-color: var(--sklearn-color-unfitted-level-3);\n",
       "  color: var(--sklearn-color-background);\n",
       "  text-decoration: none;\n",
       "}\n",
       "\n",
       "div.sk-estimator.fitted:hover .sk-estimator-doc-link.fitted:hover,\n",
       ".sk-estimator-doc-link.fitted:hover,\n",
       "div.sk-label-container:hover .sk-estimator-doc-link.fitted:hover,\n",
       ".sk-estimator-doc-link.fitted:hover {\n",
       "  /* fitted */\n",
       "  background-color: var(--sklearn-color-fitted-level-3);\n",
       "  color: var(--sklearn-color-background);\n",
       "  text-decoration: none;\n",
       "}\n",
       "\n",
       "/* Span, style for the box shown on hovering the info icon */\n",
       ".sk-estimator-doc-link span {\n",
       "  display: none;\n",
       "  z-index: 9999;\n",
       "  position: relative;\n",
       "  font-weight: normal;\n",
       "  right: .2ex;\n",
       "  padding: .5ex;\n",
       "  margin: .5ex;\n",
       "  width: min-content;\n",
       "  min-width: 20ex;\n",
       "  max-width: 50ex;\n",
       "  color: var(--sklearn-color-text);\n",
       "  box-shadow: 2pt 2pt 4pt #999;\n",
       "  /* unfitted */\n",
       "  background: var(--sklearn-color-unfitted-level-0);\n",
       "  border: .5pt solid var(--sklearn-color-unfitted-level-3);\n",
       "}\n",
       "\n",
       ".sk-estimator-doc-link.fitted span {\n",
       "  /* fitted */\n",
       "  background: var(--sklearn-color-fitted-level-0);\n",
       "  border: var(--sklearn-color-fitted-level-3);\n",
       "}\n",
       "\n",
       ".sk-estimator-doc-link:hover span {\n",
       "  display: block;\n",
       "}\n",
       "\n",
       "/* \"?\"-specific style due to the `<a>` HTML tag */\n",
       "\n",
       "#sk-container-id-20 a.estimator_doc_link {\n",
       "  float: right;\n",
       "  font-size: 1rem;\n",
       "  line-height: 1em;\n",
       "  font-family: monospace;\n",
       "  background-color: var(--sklearn-color-background);\n",
       "  border-radius: 1rem;\n",
       "  height: 1rem;\n",
       "  width: 1rem;\n",
       "  text-decoration: none;\n",
       "  /* unfitted */\n",
       "  color: var(--sklearn-color-unfitted-level-1);\n",
       "  border: var(--sklearn-color-unfitted-level-1) 1pt solid;\n",
       "}\n",
       "\n",
       "#sk-container-id-20 a.estimator_doc_link.fitted {\n",
       "  /* fitted */\n",
       "  border: var(--sklearn-color-fitted-level-1) 1pt solid;\n",
       "  color: var(--sklearn-color-fitted-level-1);\n",
       "}\n",
       "\n",
       "/* On hover */\n",
       "#sk-container-id-20 a.estimator_doc_link:hover {\n",
       "  /* unfitted */\n",
       "  background-color: var(--sklearn-color-unfitted-level-3);\n",
       "  color: var(--sklearn-color-background);\n",
       "  text-decoration: none;\n",
       "}\n",
       "\n",
       "#sk-container-id-20 a.estimator_doc_link.fitted:hover {\n",
       "  /* fitted */\n",
       "  background-color: var(--sklearn-color-fitted-level-3);\n",
       "}\n",
       "</style><div id=\"sk-container-id-20\" class=\"sk-top-container\"><div class=\"sk-text-repr-fallback\"><pre>StandardScaler()</pre><b>In a Jupyter environment, please rerun this cell to show the HTML representation or trust the notebook. <br />On GitHub, the HTML representation is unable to render, please try loading this page with nbviewer.org.</b></div><div class=\"sk-container\" hidden><div class=\"sk-item\"><div class=\"sk-estimator fitted sk-toggleable\"><input class=\"sk-toggleable__control sk-hidden--visually\" id=\"sk-estimator-id-20\" type=\"checkbox\" checked><label for=\"sk-estimator-id-20\" class=\"sk-toggleable__label fitted sk-toggleable__label-arrow fitted\">&nbsp;&nbsp;StandardScaler<a class=\"sk-estimator-doc-link fitted\" rel=\"noreferrer\" target=\"_blank\" href=\"https://scikit-learn.org/1.5/modules/generated/sklearn.preprocessing.StandardScaler.html\">?<span>Documentation for StandardScaler</span></a><span class=\"sk-estimator-doc-link fitted\">i<span>Fitted</span></span></label><div class=\"sk-toggleable__content fitted\"><pre>StandardScaler()</pre></div> </div></div></div></div>"
      ],
      "text/plain": [
       "StandardScaler()"
      ]
     },
     "execution_count": 221,
     "metadata": {},
     "output_type": "execute_result"
    }
   ],
   "source": [
    "from sklearn.preprocessing import StandardScaler\n",
    "scaler = StandardScaler()\n",
    "# Si en el entrenamiento ya tenés X_train definido, usá ese conjunto; \n",
    "# de lo contrario, ajustamos con X_norespondieron o alguna otra partición.\n",
    "scaler.fit(X_norespondieron)"
   ]
  },
  {
   "cell_type": "code",
   "execution_count": 222,
   "id": "cd02f261-bea2-4c91-bd7a-69f9ea34493a",
   "metadata": {},
   "outputs": [
    {
     "ename": "ValueError",
     "evalue": "Found array with 0 sample(s) (shape=(0, 4)) while a minimum of 1 is required by LogisticRegression.",
     "output_type": "error",
     "traceback": [
      "\u001b[1;31m---------------------------------------------------------------------------\u001b[0m",
      "\u001b[1;31mValueError\u001b[0m                                Traceback (most recent call last)",
      "Cell \u001b[1;32mIn[222], line 3\u001b[0m\n\u001b[0;32m      1\u001b[0m \u001b[38;5;28;01mfrom\u001b[39;00m \u001b[38;5;21;01msklearn\u001b[39;00m\u001b[38;5;21;01m.\u001b[39;00m\u001b[38;5;21;01mlinear_model\u001b[39;00m \u001b[38;5;28;01mimport\u001b[39;00m LogisticRegression\n\u001b[0;32m      2\u001b[0m modelo_seleccionado \u001b[38;5;241m=\u001b[39m LogisticRegression(solver\u001b[38;5;241m=\u001b[39m\u001b[38;5;124m\"\u001b[39m\u001b[38;5;124mlbfgs\u001b[39m\u001b[38;5;124m\"\u001b[39m, max_iter\u001b[38;5;241m=\u001b[39m\u001b[38;5;241m5000\u001b[39m)\n\u001b[1;32m----> 3\u001b[0m modelo_seleccionado\u001b[38;5;241m.\u001b[39mfit(X_train, y_train)  \u001b[38;5;66;03m# Asegúrate de que X_train y y_train están correctamente definidos\u001b[39;00m\n\u001b[0;32m      4\u001b[0m \u001b[38;5;28;01mfrom\u001b[39;00m \u001b[38;5;21;01msklearn\u001b[39;00m\u001b[38;5;21;01m.\u001b[39;00m\u001b[38;5;21;01mlinear_model\u001b[39;00m \u001b[38;5;28;01mimport\u001b[39;00m LogisticRegression\n\u001b[0;32m      5\u001b[0m X_norespondieron_scaled_df \u001b[38;5;241m=\u001b[39m pd\u001b[38;5;241m.\u001b[39mDataFrame(X_norespondieron_scaled, columns\u001b[38;5;241m=\u001b[39mX_train\u001b[38;5;241m.\u001b[39mcolumns)\n",
      "File \u001b[1;32m~\\anaconda3\\Lib\\site-packages\\sklearn\\base.py:1473\u001b[0m, in \u001b[0;36m_fit_context.<locals>.decorator.<locals>.wrapper\u001b[1;34m(estimator, *args, **kwargs)\u001b[0m\n\u001b[0;32m   1466\u001b[0m     estimator\u001b[38;5;241m.\u001b[39m_validate_params()\n\u001b[0;32m   1468\u001b[0m \u001b[38;5;28;01mwith\u001b[39;00m config_context(\n\u001b[0;32m   1469\u001b[0m     skip_parameter_validation\u001b[38;5;241m=\u001b[39m(\n\u001b[0;32m   1470\u001b[0m         prefer_skip_nested_validation \u001b[38;5;129;01mor\u001b[39;00m global_skip_validation\n\u001b[0;32m   1471\u001b[0m     )\n\u001b[0;32m   1472\u001b[0m ):\n\u001b[1;32m-> 1473\u001b[0m     \u001b[38;5;28;01mreturn\u001b[39;00m fit_method(estimator, \u001b[38;5;241m*\u001b[39margs, \u001b[38;5;241m*\u001b[39m\u001b[38;5;241m*\u001b[39mkwargs)\n",
      "File \u001b[1;32m~\\anaconda3\\Lib\\site-packages\\sklearn\\linear_model\\_logistic.py:1223\u001b[0m, in \u001b[0;36mLogisticRegression.fit\u001b[1;34m(self, X, y, sample_weight)\u001b[0m\n\u001b[0;32m   1220\u001b[0m \u001b[38;5;28;01melse\u001b[39;00m:\n\u001b[0;32m   1221\u001b[0m     _dtype \u001b[38;5;241m=\u001b[39m [np\u001b[38;5;241m.\u001b[39mfloat64, np\u001b[38;5;241m.\u001b[39mfloat32]\n\u001b[1;32m-> 1223\u001b[0m X, y \u001b[38;5;241m=\u001b[39m \u001b[38;5;28mself\u001b[39m\u001b[38;5;241m.\u001b[39m_validate_data(\n\u001b[0;32m   1224\u001b[0m     X,\n\u001b[0;32m   1225\u001b[0m     y,\n\u001b[0;32m   1226\u001b[0m     accept_sparse\u001b[38;5;241m=\u001b[39m\u001b[38;5;124m\"\u001b[39m\u001b[38;5;124mcsr\u001b[39m\u001b[38;5;124m\"\u001b[39m,\n\u001b[0;32m   1227\u001b[0m     dtype\u001b[38;5;241m=\u001b[39m_dtype,\n\u001b[0;32m   1228\u001b[0m     order\u001b[38;5;241m=\u001b[39m\u001b[38;5;124m\"\u001b[39m\u001b[38;5;124mC\u001b[39m\u001b[38;5;124m\"\u001b[39m,\n\u001b[0;32m   1229\u001b[0m     accept_large_sparse\u001b[38;5;241m=\u001b[39msolver \u001b[38;5;129;01mnot\u001b[39;00m \u001b[38;5;129;01min\u001b[39;00m [\u001b[38;5;124m\"\u001b[39m\u001b[38;5;124mliblinear\u001b[39m\u001b[38;5;124m\"\u001b[39m, \u001b[38;5;124m\"\u001b[39m\u001b[38;5;124msag\u001b[39m\u001b[38;5;124m\"\u001b[39m, \u001b[38;5;124m\"\u001b[39m\u001b[38;5;124msaga\u001b[39m\u001b[38;5;124m\"\u001b[39m],\n\u001b[0;32m   1230\u001b[0m )\n\u001b[0;32m   1231\u001b[0m check_classification_targets(y)\n\u001b[0;32m   1232\u001b[0m \u001b[38;5;28mself\u001b[39m\u001b[38;5;241m.\u001b[39mclasses_ \u001b[38;5;241m=\u001b[39m np\u001b[38;5;241m.\u001b[39munique(y)\n",
      "File \u001b[1;32m~\\anaconda3\\Lib\\site-packages\\sklearn\\base.py:650\u001b[0m, in \u001b[0;36mBaseEstimator._validate_data\u001b[1;34m(self, X, y, reset, validate_separately, cast_to_ndarray, **check_params)\u001b[0m\n\u001b[0;32m    648\u001b[0m         y \u001b[38;5;241m=\u001b[39m check_array(y, input_name\u001b[38;5;241m=\u001b[39m\u001b[38;5;124m\"\u001b[39m\u001b[38;5;124my\u001b[39m\u001b[38;5;124m\"\u001b[39m, \u001b[38;5;241m*\u001b[39m\u001b[38;5;241m*\u001b[39mcheck_y_params)\n\u001b[0;32m    649\u001b[0m     \u001b[38;5;28;01melse\u001b[39;00m:\n\u001b[1;32m--> 650\u001b[0m         X, y \u001b[38;5;241m=\u001b[39m check_X_y(X, y, \u001b[38;5;241m*\u001b[39m\u001b[38;5;241m*\u001b[39mcheck_params)\n\u001b[0;32m    651\u001b[0m     out \u001b[38;5;241m=\u001b[39m X, y\n\u001b[0;32m    653\u001b[0m \u001b[38;5;28;01mif\u001b[39;00m \u001b[38;5;129;01mnot\u001b[39;00m no_val_X \u001b[38;5;129;01mand\u001b[39;00m check_params\u001b[38;5;241m.\u001b[39mget(\u001b[38;5;124m\"\u001b[39m\u001b[38;5;124mensure_2d\u001b[39m\u001b[38;5;124m\"\u001b[39m, \u001b[38;5;28;01mTrue\u001b[39;00m):\n",
      "File \u001b[1;32m~\\anaconda3\\Lib\\site-packages\\sklearn\\utils\\validation.py:1301\u001b[0m, in \u001b[0;36mcheck_X_y\u001b[1;34m(X, y, accept_sparse, accept_large_sparse, dtype, order, copy, force_writeable, force_all_finite, ensure_2d, allow_nd, multi_output, ensure_min_samples, ensure_min_features, y_numeric, estimator)\u001b[0m\n\u001b[0;32m   1296\u001b[0m         estimator_name \u001b[38;5;241m=\u001b[39m _check_estimator_name(estimator)\n\u001b[0;32m   1297\u001b[0m     \u001b[38;5;28;01mraise\u001b[39;00m \u001b[38;5;167;01mValueError\u001b[39;00m(\n\u001b[0;32m   1298\u001b[0m         \u001b[38;5;124mf\u001b[39m\u001b[38;5;124m\"\u001b[39m\u001b[38;5;132;01m{\u001b[39;00mestimator_name\u001b[38;5;132;01m}\u001b[39;00m\u001b[38;5;124m requires y to be passed, but the target y is None\u001b[39m\u001b[38;5;124m\"\u001b[39m\n\u001b[0;32m   1299\u001b[0m     )\n\u001b[1;32m-> 1301\u001b[0m X \u001b[38;5;241m=\u001b[39m check_array(\n\u001b[0;32m   1302\u001b[0m     X,\n\u001b[0;32m   1303\u001b[0m     accept_sparse\u001b[38;5;241m=\u001b[39maccept_sparse,\n\u001b[0;32m   1304\u001b[0m     accept_large_sparse\u001b[38;5;241m=\u001b[39maccept_large_sparse,\n\u001b[0;32m   1305\u001b[0m     dtype\u001b[38;5;241m=\u001b[39mdtype,\n\u001b[0;32m   1306\u001b[0m     order\u001b[38;5;241m=\u001b[39morder,\n\u001b[0;32m   1307\u001b[0m     copy\u001b[38;5;241m=\u001b[39mcopy,\n\u001b[0;32m   1308\u001b[0m     force_writeable\u001b[38;5;241m=\u001b[39mforce_writeable,\n\u001b[0;32m   1309\u001b[0m     force_all_finite\u001b[38;5;241m=\u001b[39mforce_all_finite,\n\u001b[0;32m   1310\u001b[0m     ensure_2d\u001b[38;5;241m=\u001b[39mensure_2d,\n\u001b[0;32m   1311\u001b[0m     allow_nd\u001b[38;5;241m=\u001b[39mallow_nd,\n\u001b[0;32m   1312\u001b[0m     ensure_min_samples\u001b[38;5;241m=\u001b[39mensure_min_samples,\n\u001b[0;32m   1313\u001b[0m     ensure_min_features\u001b[38;5;241m=\u001b[39mensure_min_features,\n\u001b[0;32m   1314\u001b[0m     estimator\u001b[38;5;241m=\u001b[39mestimator,\n\u001b[0;32m   1315\u001b[0m     input_name\u001b[38;5;241m=\u001b[39m\u001b[38;5;124m\"\u001b[39m\u001b[38;5;124mX\u001b[39m\u001b[38;5;124m\"\u001b[39m,\n\u001b[0;32m   1316\u001b[0m )\n\u001b[0;32m   1318\u001b[0m y \u001b[38;5;241m=\u001b[39m _check_y(y, multi_output\u001b[38;5;241m=\u001b[39mmulti_output, y_numeric\u001b[38;5;241m=\u001b[39my_numeric, estimator\u001b[38;5;241m=\u001b[39mestimator)\n\u001b[0;32m   1320\u001b[0m check_consistent_length(X, y)\n",
      "File \u001b[1;32m~\\anaconda3\\Lib\\site-packages\\sklearn\\utils\\validation.py:1087\u001b[0m, in \u001b[0;36mcheck_array\u001b[1;34m(array, accept_sparse, accept_large_sparse, dtype, order, copy, force_writeable, force_all_finite, ensure_2d, allow_nd, ensure_min_samples, ensure_min_features, estimator, input_name)\u001b[0m\n\u001b[0;32m   1085\u001b[0m     n_samples \u001b[38;5;241m=\u001b[39m _num_samples(array)\n\u001b[0;32m   1086\u001b[0m     \u001b[38;5;28;01mif\u001b[39;00m n_samples \u001b[38;5;241m<\u001b[39m ensure_min_samples:\n\u001b[1;32m-> 1087\u001b[0m         \u001b[38;5;28;01mraise\u001b[39;00m \u001b[38;5;167;01mValueError\u001b[39;00m(\n\u001b[0;32m   1088\u001b[0m             \u001b[38;5;124m\"\u001b[39m\u001b[38;5;124mFound array with \u001b[39m\u001b[38;5;132;01m%d\u001b[39;00m\u001b[38;5;124m sample(s) (shape=\u001b[39m\u001b[38;5;132;01m%s\u001b[39;00m\u001b[38;5;124m) while a\u001b[39m\u001b[38;5;124m\"\u001b[39m\n\u001b[0;32m   1089\u001b[0m             \u001b[38;5;124m\"\u001b[39m\u001b[38;5;124m minimum of \u001b[39m\u001b[38;5;132;01m%d\u001b[39;00m\u001b[38;5;124m is required\u001b[39m\u001b[38;5;132;01m%s\u001b[39;00m\u001b[38;5;124m.\u001b[39m\u001b[38;5;124m\"\u001b[39m\n\u001b[0;32m   1090\u001b[0m             \u001b[38;5;241m%\u001b[39m (n_samples, array\u001b[38;5;241m.\u001b[39mshape, ensure_min_samples, context)\n\u001b[0;32m   1091\u001b[0m         )\n\u001b[0;32m   1093\u001b[0m \u001b[38;5;28;01mif\u001b[39;00m ensure_min_features \u001b[38;5;241m>\u001b[39m \u001b[38;5;241m0\u001b[39m \u001b[38;5;129;01mand\u001b[39;00m array\u001b[38;5;241m.\u001b[39mndim \u001b[38;5;241m==\u001b[39m \u001b[38;5;241m2\u001b[39m:\n\u001b[0;32m   1094\u001b[0m     n_features \u001b[38;5;241m=\u001b[39m array\u001b[38;5;241m.\u001b[39mshape[\u001b[38;5;241m1\u001b[39m]\n",
      "\u001b[1;31mValueError\u001b[0m: Found array with 0 sample(s) (shape=(0, 4)) while a minimum of 1 is required by LogisticRegression."
     ]
    }
   ],
   "source": [
    "from sklearn.linear_model import LogisticRegression\n",
    "modelo_seleccionado = LogisticRegression(solver=\"lbfgs\", max_iter=5000)\n",
    "modelo_seleccionado.fit(X_train, y_train)  # Asegúrate de que X_train y y_train están correctamente definidos\n",
    "from sklearn.linear_model import LogisticRegression\n",
    "X_norespondieron_scaled_df = pd.DataFrame(X_norespondieron_scaled, columns=X_train.columns)"
   ]
  },
  {
   "cell_type": "code",
   "execution_count": 211,
   "id": "a1b59a8e-074b-4d52-84c6-62ca908578ea",
   "metadata": {},
   "outputs": [
    {
     "name": "stdout",
     "output_type": "stream",
     "text": [
      "Predicciones: [1 1 1 ... 1 1 1]\n",
      "La proporción estimada de desocupados en 'norespondieron' es: 93.47%\n"
     ]
    }
   ],
   "source": [
    "y_pred_norespondieron = modelo_seleccionado.predict(X_norespondieron_scaled_df)\n",
    "print(\"Predicciones:\", y_pred_norespondieron)\n",
    "print(f\"La proporción estimada de desocupados en 'norespondieron' es: {proporcion_desocupados:.2%}\")"
   ]
  },
  {
   "cell_type": "code",
   "execution_count": 203,
   "id": "ccddcba7-3037-4e39-a20b-03dbaf8b54cb",
   "metadata": {},
   "outputs": [
    {
     "name": "stdout",
     "output_type": "stream",
     "text": [
      "La proporción estimada de desocupados en 'norespondieron' es: 93.47%\n"
     ]
    }
   ],
   "source": [
    "proporcion_desocupados = df_norespondieron[\"pred_desocupado\"].mean()\n",
    "print(f\"La proporción estimada de desocupados en 'norespondieron' es: {proporcion_desocupados:.2%}\")"
   ]
  },
  {
   "cell_type": "code",
   "execution_count": 202,
   "id": "2d4714ac-8124-42f2-9a76-d91d77768d1d",
   "metadata": {},
   "outputs": [
    {
     "name": "stdout",
     "output_type": "stream",
     "text": [
      "   pred_desocupado\n",
      "0                1\n",
      "1                1\n",
      "2                1\n",
      "3                0\n",
      "4                1\n"
     ]
    }
   ],
   "source": [
    "df_norespondieron[\"pred_desocupado\"] = y_pred_norespondieron\n",
    "print(df_norespondieron[[\"pred_desocupado\"]].head())  # Muestra las primeras filas"
   ]
  },
  {
   "cell_type": "code",
   "execution_count": 204,
   "id": "8c452df3-ccb7-454a-922a-ba6252b60e86",
   "metadata": {},
   "outputs": [
    {
     "name": "stdout",
     "output_type": "stream",
     "text": [
      "pred_desocupado\n",
      "1    93.466099\n",
      "0     6.533901\n",
      "Name: proportion, dtype: float64\n"
     ]
    }
   ],
   "source": [
    "print(df_norespondieron[\"pred_desocupado\"].value_counts(normalize=True) * 100)"
   ]
  },
  {
   "cell_type": "code",
   "execution_count": 159,
   "id": "9910d5ea-6ec1-4ddc-b6b8-46962656aacd",
   "metadata": {},
   "outputs": [
    {
     "name": "stdout",
     "output_type": "stream",
     "text": [
      "LogisticRegression()\n",
      "Columnas usadas en el entrenamiento: ['edad2', 'educ', 'mujer', 'horastrab']\n",
      "Columnas usadas en la predicción: ['edad2', 'educ', 'mujer', 'horastrab']\n"
     ]
    }
   ],
   "source": [
    "print(modelo_seleccionado)\n",
    "print(\"Columnas usadas en el entrenamiento:\", X_train.columns.tolist())\n",
    "print(\"Columnas usadas en la predicción:\", X_norespondieron.columns.tolist())"
   ]
  },
  {
   "cell_type": "code",
   "execution_count": 160,
   "id": "607dd968-eb30-4144-9752-0887ae99c354",
   "metadata": {},
   "outputs": [
    {
     "name": "stderr",
     "output_type": "stream",
     "text": [
      "C:\\Users\\El economista\\anaconda3\\Lib\\site-packages\\sklearn\\base.py:493: UserWarning: X does not have valid feature names, but LogisticRegression was fitted with feature names\n",
      "  warnings.warn(\n"
     ]
    },
    {
     "ename": "AttributeError",
     "evalue": "'LogisticRegression' object has no attribute 'coef_'",
     "output_type": "error",
     "traceback": [
      "\u001b[1;31m---------------------------------------------------------------------------\u001b[0m",
      "\u001b[1;31mAttributeError\u001b[0m                            Traceback (most recent call last)",
      "Cell \u001b[1;32mIn[160], line 5\u001b[0m\n\u001b[0;32m      2\u001b[0m X_norespondieron_scaled \u001b[38;5;241m=\u001b[39m scaler\u001b[38;5;241m.\u001b[39mtransform(X_norespondieron)\n\u001b[0;32m      4\u001b[0m \u001b[38;5;66;03m# 2. Predecir los valores de 'desocupado' en la base 'norespondieron'\u001b[39;00m\n\u001b[1;32m----> 5\u001b[0m y_pred_norespondieron \u001b[38;5;241m=\u001b[39m modelo_seleccionado\u001b[38;5;241m.\u001b[39mpredict(X_norespondieron_scaled)\n\u001b[0;32m      7\u001b[0m \u001b[38;5;66;03m# 3. Calcular la proporción de individuos predichos como desocupados (se asume que 1 = desocupado)\u001b[39;00m\n\u001b[0;32m      8\u001b[0m proporcion_desocupados \u001b[38;5;241m=\u001b[39m np\u001b[38;5;241m.\u001b[39mmean(y_pred_norespondieron)\n",
      "File \u001b[1;32m~\\anaconda3\\Lib\\site-packages\\sklearn\\linear_model\\_base.py:382\u001b[0m, in \u001b[0;36mLinearClassifierMixin.predict\u001b[1;34m(self, X)\u001b[0m\n\u001b[0;32m    368\u001b[0m \u001b[38;5;250m\u001b[39m\u001b[38;5;124;03m\"\"\"\u001b[39;00m\n\u001b[0;32m    369\u001b[0m \u001b[38;5;124;03mPredict class labels for samples in X.\u001b[39;00m\n\u001b[0;32m    370\u001b[0m \n\u001b[1;32m   (...)\u001b[0m\n\u001b[0;32m    379\u001b[0m \u001b[38;5;124;03m    Vector containing the class labels for each sample.\u001b[39;00m\n\u001b[0;32m    380\u001b[0m \u001b[38;5;124;03m\"\"\"\u001b[39;00m\n\u001b[0;32m    381\u001b[0m xp, _ \u001b[38;5;241m=\u001b[39m get_namespace(X)\n\u001b[1;32m--> 382\u001b[0m scores \u001b[38;5;241m=\u001b[39m \u001b[38;5;28mself\u001b[39m\u001b[38;5;241m.\u001b[39mdecision_function(X)\n\u001b[0;32m    383\u001b[0m \u001b[38;5;28;01mif\u001b[39;00m \u001b[38;5;28mlen\u001b[39m(scores\u001b[38;5;241m.\u001b[39mshape) \u001b[38;5;241m==\u001b[39m \u001b[38;5;241m1\u001b[39m:\n\u001b[0;32m    384\u001b[0m     indices \u001b[38;5;241m=\u001b[39m xp\u001b[38;5;241m.\u001b[39mastype(scores \u001b[38;5;241m>\u001b[39m \u001b[38;5;241m0\u001b[39m, indexing_dtype(xp))\n",
      "File \u001b[1;32m~\\anaconda3\\Lib\\site-packages\\sklearn\\linear_model\\_base.py:364\u001b[0m, in \u001b[0;36mLinearClassifierMixin.decision_function\u001b[1;34m(self, X)\u001b[0m\n\u001b[0;32m    361\u001b[0m xp, _ \u001b[38;5;241m=\u001b[39m get_namespace(X)\n\u001b[0;32m    363\u001b[0m X \u001b[38;5;241m=\u001b[39m \u001b[38;5;28mself\u001b[39m\u001b[38;5;241m.\u001b[39m_validate_data(X, accept_sparse\u001b[38;5;241m=\u001b[39m\u001b[38;5;124m\"\u001b[39m\u001b[38;5;124mcsr\u001b[39m\u001b[38;5;124m\"\u001b[39m, reset\u001b[38;5;241m=\u001b[39m\u001b[38;5;28;01mFalse\u001b[39;00m)\n\u001b[1;32m--> 364\u001b[0m scores \u001b[38;5;241m=\u001b[39m safe_sparse_dot(X, \u001b[38;5;28mself\u001b[39m\u001b[38;5;241m.\u001b[39mcoef_\u001b[38;5;241m.\u001b[39mT, dense_output\u001b[38;5;241m=\u001b[39m\u001b[38;5;28;01mTrue\u001b[39;00m) \u001b[38;5;241m+\u001b[39m \u001b[38;5;28mself\u001b[39m\u001b[38;5;241m.\u001b[39mintercept_\n\u001b[0;32m    365\u001b[0m \u001b[38;5;28;01mreturn\u001b[39;00m xp\u001b[38;5;241m.\u001b[39mreshape(scores, (\u001b[38;5;241m-\u001b[39m\u001b[38;5;241m1\u001b[39m,)) \u001b[38;5;28;01mif\u001b[39;00m scores\u001b[38;5;241m.\u001b[39mshape[\u001b[38;5;241m1\u001b[39m] \u001b[38;5;241m==\u001b[39m \u001b[38;5;241m1\u001b[39m \u001b[38;5;28;01melse\u001b[39;00m scores\n",
      "\u001b[1;31mAttributeError\u001b[0m: 'LogisticRegression' object has no attribute 'coef_'"
     ]
    }
   ],
   "source": [
    "# 1. Aplicar la transformación con el escalador previamente ajustado\n",
    "X_norespondieron_scaled = scaler.transform(X_norespondieron)\n",
    "\n",
    "# 2. Predecir los valores de 'desocupado' en la base 'norespondieron'\n",
    "y_pred_norespondieron = modelo_seleccionado.predict(X_norespondieron_scaled)\n",
    "\n",
    "# 3. Calcular la proporción de individuos predichos como desocupados (se asume que 1 = desocupado)\n",
    "proporcion_desocupados = np.mean(y_pred_norespondieron)\n",
    "print(f\"La proporción estimada de desocupados en 'norespondieron' es: {proporcion_desocupados:.2%}\")"
   ]
  },
  {
   "cell_type": "code",
   "execution_count": 126,
   "id": "950c27e3-2798-4fb0-b9c6-98085fc71500",
   "metadata": {},
   "outputs": [
    {
     "name": "stdout",
     "output_type": "stream",
     "text": [
      "Columnas en X_train: ['edad2', 'educ', 'mujer', 'horastrab']\n",
      "Columnas en X_norespondieron: ['edad2', 'educ', 'mujer', 'horastrab']\n"
     ]
    }
   ],
   "source": [
    "print(\"Columnas en X_train:\", X_train.columns.tolist())\n",
    "print(\"Columnas en X_norespondieron:\", X_norespondieron.columns.tolist())"
   ]
  },
  {
   "cell_type": "code",
   "execution_count": 42,
   "id": "281e6ef9-1ff2-447e-8ee0-2cc14f9b2784",
   "metadata": {},
   "outputs": [
    {
     "ename": "ValueError",
     "evalue": "Found array with 0 sample(s) (shape=(0, 5)) while a minimum of 1 is required by StandardScaler.",
     "output_type": "error",
     "traceback": [
      "\u001b[1;31m---------------------------------------------------------------------------\u001b[0m",
      "\u001b[1;31mValueError\u001b[0m                                Traceback (most recent call last)",
      "Cell \u001b[1;32mIn[42], line 3\u001b[0m\n\u001b[0;32m      1\u001b[0m \u001b[38;5;66;03m# Crear y ajustar el escalador\u001b[39;00m\n\u001b[0;32m      2\u001b[0m scaler \u001b[38;5;241m=\u001b[39m StandardScaler()\n\u001b[1;32m----> 3\u001b[0m scaler\u001b[38;5;241m.\u001b[39mfit(X_train)  \u001b[38;5;66;03m# Ajustar con los datos de entrenamiento\u001b[39;00m\n\u001b[0;32m      5\u001b[0m \u001b[38;5;66;03m# Transformar los datos\u001b[39;00m\n\u001b[0;32m      6\u001b[0m X_train_scaled \u001b[38;5;241m=\u001b[39m scaler\u001b[38;5;241m.\u001b[39mtransform(X_train)\n",
      "File \u001b[1;32m~\\anaconda3\\Lib\\site-packages\\sklearn\\preprocessing\\_data.py:878\u001b[0m, in \u001b[0;36mStandardScaler.fit\u001b[1;34m(self, X, y, sample_weight)\u001b[0m\n\u001b[0;32m    876\u001b[0m \u001b[38;5;66;03m# Reset internal state before fitting\u001b[39;00m\n\u001b[0;32m    877\u001b[0m \u001b[38;5;28mself\u001b[39m\u001b[38;5;241m.\u001b[39m_reset()\n\u001b[1;32m--> 878\u001b[0m \u001b[38;5;28;01mreturn\u001b[39;00m \u001b[38;5;28mself\u001b[39m\u001b[38;5;241m.\u001b[39mpartial_fit(X, y, sample_weight)\n",
      "File \u001b[1;32m~\\anaconda3\\Lib\\site-packages\\sklearn\\base.py:1473\u001b[0m, in \u001b[0;36m_fit_context.<locals>.decorator.<locals>.wrapper\u001b[1;34m(estimator, *args, **kwargs)\u001b[0m\n\u001b[0;32m   1466\u001b[0m     estimator\u001b[38;5;241m.\u001b[39m_validate_params()\n\u001b[0;32m   1468\u001b[0m \u001b[38;5;28;01mwith\u001b[39;00m config_context(\n\u001b[0;32m   1469\u001b[0m     skip_parameter_validation\u001b[38;5;241m=\u001b[39m(\n\u001b[0;32m   1470\u001b[0m         prefer_skip_nested_validation \u001b[38;5;129;01mor\u001b[39;00m global_skip_validation\n\u001b[0;32m   1471\u001b[0m     )\n\u001b[0;32m   1472\u001b[0m ):\n\u001b[1;32m-> 1473\u001b[0m     \u001b[38;5;28;01mreturn\u001b[39;00m fit_method(estimator, \u001b[38;5;241m*\u001b[39margs, \u001b[38;5;241m*\u001b[39m\u001b[38;5;241m*\u001b[39mkwargs)\n",
      "File \u001b[1;32m~\\anaconda3\\Lib\\site-packages\\sklearn\\preprocessing\\_data.py:914\u001b[0m, in \u001b[0;36mStandardScaler.partial_fit\u001b[1;34m(self, X, y, sample_weight)\u001b[0m\n\u001b[0;32m    882\u001b[0m \u001b[38;5;250m\u001b[39m\u001b[38;5;124;03m\"\"\"Online computation of mean and std on X for later scaling.\u001b[39;00m\n\u001b[0;32m    883\u001b[0m \n\u001b[0;32m    884\u001b[0m \u001b[38;5;124;03mAll of X is processed as a single batch. This is intended for cases\u001b[39;00m\n\u001b[1;32m   (...)\u001b[0m\n\u001b[0;32m    911\u001b[0m \u001b[38;5;124;03m    Fitted scaler.\u001b[39;00m\n\u001b[0;32m    912\u001b[0m \u001b[38;5;124;03m\"\"\"\u001b[39;00m\n\u001b[0;32m    913\u001b[0m first_call \u001b[38;5;241m=\u001b[39m \u001b[38;5;129;01mnot\u001b[39;00m \u001b[38;5;28mhasattr\u001b[39m(\u001b[38;5;28mself\u001b[39m, \u001b[38;5;124m\"\u001b[39m\u001b[38;5;124mn_samples_seen_\u001b[39m\u001b[38;5;124m\"\u001b[39m)\n\u001b[1;32m--> 914\u001b[0m X \u001b[38;5;241m=\u001b[39m \u001b[38;5;28mself\u001b[39m\u001b[38;5;241m.\u001b[39m_validate_data(\n\u001b[0;32m    915\u001b[0m     X,\n\u001b[0;32m    916\u001b[0m     accept_sparse\u001b[38;5;241m=\u001b[39m(\u001b[38;5;124m\"\u001b[39m\u001b[38;5;124mcsr\u001b[39m\u001b[38;5;124m\"\u001b[39m, \u001b[38;5;124m\"\u001b[39m\u001b[38;5;124mcsc\u001b[39m\u001b[38;5;124m\"\u001b[39m),\n\u001b[0;32m    917\u001b[0m     dtype\u001b[38;5;241m=\u001b[39mFLOAT_DTYPES,\n\u001b[0;32m    918\u001b[0m     force_all_finite\u001b[38;5;241m=\u001b[39m\u001b[38;5;124m\"\u001b[39m\u001b[38;5;124mallow-nan\u001b[39m\u001b[38;5;124m\"\u001b[39m,\n\u001b[0;32m    919\u001b[0m     reset\u001b[38;5;241m=\u001b[39mfirst_call,\n\u001b[0;32m    920\u001b[0m )\n\u001b[0;32m    921\u001b[0m n_features \u001b[38;5;241m=\u001b[39m X\u001b[38;5;241m.\u001b[39mshape[\u001b[38;5;241m1\u001b[39m]\n\u001b[0;32m    923\u001b[0m \u001b[38;5;28;01mif\u001b[39;00m sample_weight \u001b[38;5;129;01mis\u001b[39;00m \u001b[38;5;129;01mnot\u001b[39;00m \u001b[38;5;28;01mNone\u001b[39;00m:\n",
      "File \u001b[1;32m~\\anaconda3\\Lib\\site-packages\\sklearn\\base.py:633\u001b[0m, in \u001b[0;36mBaseEstimator._validate_data\u001b[1;34m(self, X, y, reset, validate_separately, cast_to_ndarray, **check_params)\u001b[0m\n\u001b[0;32m    631\u001b[0m         out \u001b[38;5;241m=\u001b[39m X, y\n\u001b[0;32m    632\u001b[0m \u001b[38;5;28;01melif\u001b[39;00m \u001b[38;5;129;01mnot\u001b[39;00m no_val_X \u001b[38;5;129;01mand\u001b[39;00m no_val_y:\n\u001b[1;32m--> 633\u001b[0m     out \u001b[38;5;241m=\u001b[39m check_array(X, input_name\u001b[38;5;241m=\u001b[39m\u001b[38;5;124m\"\u001b[39m\u001b[38;5;124mX\u001b[39m\u001b[38;5;124m\"\u001b[39m, \u001b[38;5;241m*\u001b[39m\u001b[38;5;241m*\u001b[39mcheck_params)\n\u001b[0;32m    634\u001b[0m \u001b[38;5;28;01melif\u001b[39;00m no_val_X \u001b[38;5;129;01mand\u001b[39;00m \u001b[38;5;129;01mnot\u001b[39;00m no_val_y:\n\u001b[0;32m    635\u001b[0m     out \u001b[38;5;241m=\u001b[39m _check_y(y, \u001b[38;5;241m*\u001b[39m\u001b[38;5;241m*\u001b[39mcheck_params)\n",
      "File \u001b[1;32m~\\anaconda3\\Lib\\site-packages\\sklearn\\utils\\validation.py:1087\u001b[0m, in \u001b[0;36mcheck_array\u001b[1;34m(array, accept_sparse, accept_large_sparse, dtype, order, copy, force_writeable, force_all_finite, ensure_2d, allow_nd, ensure_min_samples, ensure_min_features, estimator, input_name)\u001b[0m\n\u001b[0;32m   1085\u001b[0m     n_samples \u001b[38;5;241m=\u001b[39m _num_samples(array)\n\u001b[0;32m   1086\u001b[0m     \u001b[38;5;28;01mif\u001b[39;00m n_samples \u001b[38;5;241m<\u001b[39m ensure_min_samples:\n\u001b[1;32m-> 1087\u001b[0m         \u001b[38;5;28;01mraise\u001b[39;00m \u001b[38;5;167;01mValueError\u001b[39;00m(\n\u001b[0;32m   1088\u001b[0m             \u001b[38;5;124m\"\u001b[39m\u001b[38;5;124mFound array with \u001b[39m\u001b[38;5;132;01m%d\u001b[39;00m\u001b[38;5;124m sample(s) (shape=\u001b[39m\u001b[38;5;132;01m%s\u001b[39;00m\u001b[38;5;124m) while a\u001b[39m\u001b[38;5;124m\"\u001b[39m\n\u001b[0;32m   1089\u001b[0m             \u001b[38;5;124m\"\u001b[39m\u001b[38;5;124m minimum of \u001b[39m\u001b[38;5;132;01m%d\u001b[39;00m\u001b[38;5;124m is required\u001b[39m\u001b[38;5;132;01m%s\u001b[39;00m\u001b[38;5;124m.\u001b[39m\u001b[38;5;124m\"\u001b[39m\n\u001b[0;32m   1090\u001b[0m             \u001b[38;5;241m%\u001b[39m (n_samples, array\u001b[38;5;241m.\u001b[39mshape, ensure_min_samples, context)\n\u001b[0;32m   1091\u001b[0m         )\n\u001b[0;32m   1093\u001b[0m \u001b[38;5;28;01mif\u001b[39;00m ensure_min_features \u001b[38;5;241m>\u001b[39m \u001b[38;5;241m0\u001b[39m \u001b[38;5;129;01mand\u001b[39;00m array\u001b[38;5;241m.\u001b[39mndim \u001b[38;5;241m==\u001b[39m \u001b[38;5;241m2\u001b[39m:\n\u001b[0;32m   1094\u001b[0m     n_features \u001b[38;5;241m=\u001b[39m array\u001b[38;5;241m.\u001b[39mshape[\u001b[38;5;241m1\u001b[39m]\n",
      "\u001b[1;31mValueError\u001b[0m: Found array with 0 sample(s) (shape=(0, 5)) while a minimum of 1 is required by StandardScaler."
     ]
    }
   ],
   "source": [
    "# Crear y ajustar el escalador\n",
    "scaler = StandardScaler()\n",
    "scaler.fit(X_train)  # Ajustar con los datos de entrenamiento\n",
    "\n",
    "# Transformar los datos\n",
    "X_train_scaled = scaler.transform(X_train)\n",
    "\n",
    "# Asegurar que X_norespondieron tenga las mismas columnas\n",
    "X_norespondieron = df[columnas_numericas]\n",
    "X_norespondieron_scaled = scaler.transform(X_norespondieron)"
   ]
  },
  {
   "cell_type": "code",
   "execution_count": 161,
   "id": "de797da4-cdf3-43de-8c81-52477bf03b92",
   "metadata": {},
   "outputs": [
    {
     "name": "stdout",
     "output_type": "stream",
     "text": [
      "📊 Proporción estimada de desocupados en 'norespondieron': 0.00%\n"
     ]
    }
   ],
   "source": [
    "proporcion_desocupados = (y_pred_norespondieron > 0.5).mean()\n",
    "print(f\"📊 Proporción estimada de desocupados en 'norespondieron': {proporcion_desocupados:.2%}\")"
   ]
  },
  {
   "cell_type": "code",
   "execution_count": 162,
   "id": "5f947412-1080-4282-94a9-210d6cf053ad",
   "metadata": {},
   "outputs": [
    {
     "name": "stdout",
     "output_type": "stream",
     "text": [
      "Número de filas en df_norespondieron: 91339\n"
     ]
    }
   ],
   "source": [
    "print(\"Número de filas en df_norespondieron:\", df_norespondieron.shape[0])"
   ]
  },
  {
   "cell_type": "code",
   "execution_count": 163,
   "id": "9575729c-1357-4945-993a-bae15fe4b4d6",
   "metadata": {},
   "outputs": [
    {
     "name": "stdout",
     "output_type": "stream",
     "text": [
      "Número de filas en X_norespondieron: 91339\n"
     ]
    }
   ],
   "source": [
    "X_norespondieron = df_norespondieron[X_train.columns]\n",
    "\n",
    "print(\"Número de filas en X_norespondieron:\", X_norespondieron.shape[0])"
   ]
  },
  {
   "cell_type": "code",
   "execution_count": 164,
   "id": "68719237-f949-4b81-a664-67ba33b9296b",
   "metadata": {},
   "outputs": [
    {
     "name": "stdout",
     "output_type": "stream",
     "text": [
      "Número de filas en X_train: 91339\n"
     ]
    }
   ],
   "source": [
    "print(\"Número de filas en X_train:\", X_train.shape[0])"
   ]
  },
  {
   "cell_type": "code",
   "execution_count": 97,
   "id": "7b6b9d3a-7ec3-460e-a4d8-0b9cc2c94b0d",
   "metadata": {},
   "outputs": [
    {
     "name": "stdout",
     "output_type": "stream",
     "text": [
      "   codusu  nro_hogar  componente  h15    ano4  trimestre  region mas_500  \\\n",
      "0  267757        1.0         1.0  2.0  2004.0        1.0     1.0       S   \n",
      "1  135855        2.0         1.0  2.0  2004.0        1.0     1.0       S   \n",
      "2  135855        2.0         2.0  2.0  2004.0        1.0     1.0       S   \n",
      "3  135855        2.0         3.0  2.0  2004.0        1.0     1.0       S   \n",
      "4  143090        1.0         2.0  2.0  2004.0        1.0     1.0       S   \n",
      "\n",
      "   aglomerado  pondera  ...  pj1_1  pj2_1  pj3_1  idimpp  ch05  imputa  \\\n",
      "0        32.0   1568.0  ...    0.0    0.0    0.0     0.0   NaN     NaN   \n",
      "1        33.0   1589.0  ...    0.0    0.0    0.0     0.0   NaN     NaN   \n",
      "2        33.0   1589.0  ...    0.0    0.0    0.0     0.0   NaN     NaN   \n",
      "3        33.0   1589.0  ...    0.0    0.0    0.0     0.0   NaN     NaN   \n",
      "4        33.0   1728.0  ...    0.0    0.0    0.0     0.0   NaN     NaN   \n",
      "\n",
      "   pondiio  pondii  pondih   edad²  \n",
      "0      NaN     NaN     NaN   441.0  \n",
      "1      NaN     NaN     NaN  2401.0  \n",
      "2      NaN     NaN     NaN   576.0  \n",
      "3      NaN     NaN     NaN   400.0  \n",
      "4      NaN     NaN     NaN  1225.0  \n",
      "\n",
      "[5 rows x 182 columns]\n",
      "<class 'pandas.core.frame.DataFrame'>\n",
      "RangeIndex: 116 entries, 0 to 115\n",
      "Columns: 182 entries, codusu to edad²\n",
      "dtypes: float64(179), object(3)\n",
      "memory usage: 165.1+ KB\n",
      "None\n"
     ]
    }
   ],
   "source": [
    "import numpy as np\n",
    "import pandas as pd\n",
    "\n",
    "# Suponiendo que ya tienes el DataFrame cargado en df_norespondieron\n",
    "# Ejemplo: df_norespondieron = pd.read_csv(\"norespondieron.csv\")\n",
    "\n",
    "# 1. Imprime las columnas actuales para ver qué nombres tiene el DataFrame\n",
    "print(\"Columnas actuales en df_norespondieron:\")\n",
    "print(df_norespondieron.columns.tolist())\n",
    "\n",
    "\n",
    "# Verificar nuevamente las columnas\n",
    "print(\"Columnas actualizadas en df_norespondieron:\")\n",
    "print(df_norespondieron.columns.tolist())\n",
    "\n",
    "# 3. Definir las columnas de características (features) según se usaron en el entrenamiento\n",
    "# En este caso, se usa \"edad²\" en lugar de \"edad2\"\n",
    "columnas_features = [\"edad²\", \"educ\", \"mujer\", \"horastrab\"]\n",
    "print(\"Columnas a utilizar en X:\", columnas_features)\n",
    "\n",
    "# 4. Extraer las características y asegurarse de que sean numéricas\n",
    "X_norespondieron = df_norespondieron[columnas_features].copy()\n",
    "\n",
    "for col in columnas_features:\n",
    "    X_norespondieron[col] = pd.to_numeric(X_norespondieron[col], errors=\"coerce\")\n",
    "\n",
    "# Verifica que las columnas en X_norespondieron coincidan con las que usaste en training\n",
    "print(\"Columnas definitivas en X_norespondieron:\")\n",
    "print(X_norespondieron.columns.tolist())\n",
    "\n",
    "# 5. Aplicar el escalador (ya ajustado durante el entrenamiento)\n",
    "X_norespondieron_scaled = scaler.transform(X_norespondieron)\n",
    "\n",
    "# 6. Realizar la predicción con el modelo entrenado\n",
    "y_pred_norespondieron = modelo_seleccionado.predict(X_norespondieron_scaled)\n",
    "\n",
    "# 7. Calcular y mostrar la proporción de predicciones que indican \"desocupado\" (se asume que 1 = desocupado)\n",
    "proporcion_desocupados = np.mean(y_pred_norespondieron)\n",
    "print(f\"La proporción estimada de desocupados en 'norespondieron' es: {proporcion_desocupados:.2%}\")\n"
   ]
  },
  {
   "cell_type": "code",
   "execution_count": 165,
   "id": "3fc9943d-1d99-43cd-b7bc-76d5f4a3622d",
   "metadata": {},
   "outputs": [
    {
     "name": "stdout",
     "output_type": "stream",
     "text": [
      "Dimensiones de df_norespondieron: (91339, 187)\n",
      "Dimensiones de X_norespondieron (antes del escalado): (91339, 4)\n"
     ]
    }
   ],
   "source": [
    "# Revisar las dimensiones del DataFrame completo\n",
    "print(\"Dimensiones de df_norespondieron:\", df_norespondieron.shape)\n",
    "\n",
    "# Extraer las columnas de features (ejemplo)\n",
    "columnas_features = [\"edad²\", \"educ\", \"mujer\", \"horastrab\"]\n",
    "X_norespondieron = df_norespondieron[columnas_features].copy()\n",
    "\n",
    "# Verificar la dimensión del array de features\n",
    "print(\"Dimensiones de X_norespondieron (antes del escalado):\", X_norespondieron.shape)"
   ]
  },
  {
   "cell_type": "code",
   "execution_count": 166,
   "id": "a6c89688-71b0-4fb3-aaa8-06caf7d5e3a4",
   "metadata": {},
   "outputs": [
    {
     "name": "stdout",
     "output_type": "stream",
     "text": [
      "Dimensiones de df_norespondieron: (91339, 187)\n"
     ]
    }
   ],
   "source": [
    "import pandas as pd\n",
    "print(\"Dimensiones de df_norespondieron:\", df_norespondieron.shape)"
   ]
  },
  {
   "cell_type": "code",
   "execution_count": null,
   "id": "531c4579-4f9e-49b2-a299-194af622fdad",
   "metadata": {},
   "outputs": [],
   "source": [
    "import pandas as pd\n",
    "import numpy as np\n",
    "from sklearn.preprocessing import StandardScaler\n",
    "\n",
    "# 1. Cargar el DataFrame\n",
    "df_norespondieron = pd.read_csv(\"norespondieron.csv\")\n",
    "df_norespondieron.columns = df_norespondieron.columns.str.strip()  # Quitar espacios en blanco\n",
    "print(\"Columnas en df_norespondieron:\")\n",
    "print(df_norespondieron.columns.tolist())\n",
    "\n",
    "# 2. Crear la variable 'mujer' a partir de 'ch04'\n",
    "# Se asume que en 'ch04' el valor 2 representa a las mujeres\n",
    "if \"ch04\" in df_norespondieron.columns:\n",
    "    df_norespondieron[\"mujer\"] = (df_norespondieron[\"ch04\"] == 2).astype(int)\n",
    "    print(\"Variable 'mujer' creada correctamente.\")\n",
    "else:\n",
    "    print(\"La columna 'ch04' no existe en df_norespondieron.\")\n",
    "\n",
    "# 3. Definir las columnas de features (sin incluir la variable objetivo 'desocupado')\n",
    "# Verifica que las columnas existan; ajusta los nombres según corresponda.\n",
    "columnas_features = [\"edad2\", \"educ\", \"mujer\", \"horastrab\"]\n",
    "for col in columnas_features:\n",
    "    if col not in df_norespondieron.columns:\n",
    "        print(f\"Advertencia: La columna '{col}' no se encontró en el DataFrame.\")\n",
    "\n",
    "# 4. Extraer las features del conjunto de datos\n",
    "X_norespondieron = df_norespondieron[columnas_features].copy()\n",
    "\n",
    "# Convertir los datos a numérico si es necesario (por si hay valores no numéricos)\n",
    "for col in columnas_features:\n",
    "    X_norespondieron[col] = pd.to_numeric(X_norespondieron[col], errors=\"coerce\")\n",
    "\n",
    "\n",
    "\n",
    "# 6. Aplicar el escalador a los datos y predecir\n",
    "X_norespondieron_scaled = scaler.transform(X_norespondieron)\n",
    "\n",
    "# Se asume que 'modelo_seleccionado' ya fue entrenado previamente usando las mismas columnas de features.\n",
    "# Por ejemplo, podría ser un modelo de regresión logística, árbol de decisión, etc.\n",
    "y_pred_norespondidos = modelo_seleccionado.predict(X_norespondieron_scaled)\n",
    "\n",
    "# 7. Calcular la proporción de personas predichas como desocupadas (se asume que 1 = desocupado)\n",
    "proporcion_desocupados = np.mean(y_pred_norespondidos)\n",
    "print(f\"La proporción estimada de desocupados en 'norespondieron' es: {proporcion_desocupados:.2%}\")"
   ]
  }
 ],
 "metadata": {
  "kernelspec": {
   "display_name": "Python 3 (ipykernel)",
   "language": "python",
   "name": "python3"
  },
  "language_info": {
   "codemirror_mode": {
    "name": "ipython",
    "version": 3
   },
   "file_extension": ".py",
   "mimetype": "text/x-python",
   "name": "python",
   "nbconvert_exporter": "python",
   "pygments_lexer": "ipython3",
   "version": "3.12.7"
  }
 },
 "nbformat": 4,
 "nbformat_minor": 5
}
