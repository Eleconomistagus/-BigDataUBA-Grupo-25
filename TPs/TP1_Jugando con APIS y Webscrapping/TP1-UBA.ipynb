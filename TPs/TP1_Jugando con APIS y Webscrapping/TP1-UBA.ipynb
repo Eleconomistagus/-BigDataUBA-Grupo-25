{
 "cells": [
  {
   "cell_type": "markdown",
   "metadata": {
    "collapsed": true,
    "id": "Dh8MkXaG-c9Y",
    "jupyter": {
     "outputs_hidden": true
    }
   },
   "source": [
    "# Big Data y Machine Learning (UBA) -  2025\n",
    "\n",
    "## Trabajo Práctico 1: Jugando con APIs y WebScraping "
   ]
  },
  {
   "cell_type": "markdown",
   "metadata": {
    "id": "RhBlm6mZ-c9e"
   },
   "source": [
    "### Reglas de formato y presentación\n",
    "- El trabajo debe estar debidamente documentado comentado (utilizando #) para que tanto los docentes como sus compañeros puedan comprender el código fácilmente.\n",
    "\n",
    "- El mismo debe ser completado en este Jupyter Notebook y entregado como tal, es decir en un archivo .ipynb\n"
   ]
  },
  {
   "cell_type": "markdown",
   "metadata": {
    "id": "ZEjGaa4U-c9g"
   },
   "source": [
    "### Fecha de entrega:\n",
    "Viernes 4 de Abril a las 13:00 hs"
   ]
  },
  {
   "cell_type": "markdown",
   "metadata": {
    "id": "N9TU2y7E-c9h"
   },
   "source": [
    "### Modalidad de entrega\n",
    "- Al finalizar el trabajo práctico deben hacer un último <i>commit</i> en su repositorio de GitHub llamado “Entrega final del tp”. \n",
    "- Asegurense de haber creado una carpeta llamada TP1. Este Jupyter Notebook y el correspondiente al TP1 deben estar dentro de esa carpeta.\n",
    "- También deben enviar el link de su repositorio -para que pueda ser clonado y corregido- a mi correo 25RO35480961@campus.economicas.uba.ar. Usar de asunto de email <i>\"Big Data - TP 1 - Grupo #\"</i> y nombrar el archivo <i>\"TP1_Grupo #\"</i> donde # es el número de grupo que le fue asignado.\n",
    "- La última versión en el repositorio es la que será evaluada. Por lo que es importante que: \n",
    "    - No envien el correo hasta no haber terminado y estar seguros de que han hecho el <i>commit y push</i> a la versión final que quieren entregar. \n",
    "    - No hagan nuevos <i>push</i> despues de haber entregado su versión final. Esto generaría confusión acerca de que versión es la que quieren que se les corrija.\n",
    "- En resumen, la carpeta del repositorio debe incluir:\n",
    "    - El codigo\n",
    "    - Un documento Word (Parte A) donde esten las figuras y una breve descripción de las mismas.\n",
    "    - El excel con los links webscrappeados (Parte B)"
   ]
  },
  {
   "cell_type": "markdown",
   "metadata": {},
   "source": [
    "### Parte A"
   ]
  },
  {
   "cell_type": "markdown",
   "metadata": {
    "id": "ZXbrPraa-c9i"
   },
   "source": [
    "#### Ejercicio 1 - Jugando con APIs\n",
    "Usando la API del Banco Mundial [link](https://wbdata.readthedocs.io/en/stable/) , obtener dos series de indicadores para dos paises a elección en una consulta de búsqueda. Pueden buscar serie de indicadores de su interés."
   ]
  },
  {
   "cell_type": "code",
   "execution_count": 7,
   "metadata": {},
   "outputs": [],
   "source": [
    "# Resolver acá\n",
    "import wbdata\n",
    "import pandas as pd\n",
    "indicadores = {\"GFDD.DM.01\": \"Capitalización bursátil respecto al PIB (%)\",\"GFDD.DI.02\": \"Activos de bancos comerciales respecto al PIB (%)\"}\n",
    "#GFDD.DM.01 Capitalización bursátil respecto al PIB (%)\n",
    "#GFDD.DI.02 Activos de bancos comerciales respecto al PIB (%)\n",
    "data = wbdata.get_dataframe(indicadores, country=['USA','ARG'])\n",
    "df = pd.DataFrame(data=data)"
   ]
  },
  {
   "cell_type": "code",
   "execution_count": 8,
   "metadata": {},
   "outputs": [
    {
     "name": "stdout",
     "output_type": "stream",
     "text": [
      "          country  date  Capitalización bursátil respecto al PIB (%)  \\\n",
      "62  United States  2021                                          NaN   \n",
      "63  United States  2020                                    194.88900   \n",
      "64  United States  2019                                    158.57200   \n",
      "65  United States  2018                                    148.27300   \n",
      "66  United States  2017                                    164.89400   \n",
      "67  United States  2016                                    146.30700   \n",
      "68  United States  2015                                    137.68800   \n",
      "69  United States  2014                                    150.02600   \n",
      "70  United States  2013                                    142.69800   \n",
      "71  United States  2012                                    114.85400   \n",
      "72  United States  2011                                    100.26300   \n",
      "0       Argentina  2021                                          NaN   \n",
      "1       Argentina  2020                                          NaN   \n",
      "2       Argentina  2019                                      8.69963   \n",
      "3       Argentina  2018                                      8.76226   \n",
      "4       Argentina  2017                                     16.89480   \n",
      "5       Argentina  2016                                     11.40760   \n",
      "6       Argentina  2015                                      9.43837   \n",
      "7       Argentina  2014                                     11.42690   \n",
      "8       Argentina  2013                                      9.62000   \n",
      "9       Argentina  2012                                      6.27397   \n",
      "10      Argentina  2011                                      8.22007   \n",
      "\n",
      "    Activos de bancos comerciales respecto al PIB (%)  \n",
      "62                                                NaN  \n",
      "63                                           74.16846  \n",
      "64                                           64.00681  \n",
      "65                                           63.22401  \n",
      "66                                           63.03008  \n",
      "67                                           63.93101  \n",
      "68                                           60.82715  \n",
      "69                                           59.23862  \n",
      "70                                           58.27073  \n",
      "71                                           59.29870  \n",
      "72                                           59.39561  \n",
      "0                                                 NaN  \n",
      "1                                                 NaN  \n",
      "2                                                 NaN  \n",
      "3                                                 NaN  \n",
      "4                                            24.17418  \n",
      "5                                            22.02309  \n",
      "6                                            22.71855  \n",
      "7                                            21.97919  \n",
      "8                                            21.85879  \n",
      "9                                            21.90789  \n",
      "10                                           20.84089  \n"
     ]
    }
   ],
   "source": [
    "df = df.reset_index()  # Asegurar que 'date' es una columna\n",
    "df_usa = df[df['country'] == 'United States'].sort_values(by='date', ascending=False).head(11)\n",
    "df_argentina = df[df['country'] == 'Argentina'].sort_values(by='date', ascending=False).head(11)\n",
    "\n",
    "# Unir los dos DataFrames\n",
    "df_combined = pd.concat([df_usa, df_argentina])\n",
    "\n",
    "print(df_combined)\n"
   ]
  },
  {
   "cell_type": "code",
   "execution_count": 9,
   "metadata": {},
   "outputs": [
    {
     "data": {
      "text/html": [
       "<div>\n",
       "<style scoped>\n",
       "    .dataframe tbody tr th:only-of-type {\n",
       "        vertical-align: middle;\n",
       "    }\n",
       "\n",
       "    .dataframe tbody tr th {\n",
       "        vertical-align: top;\n",
       "    }\n",
       "\n",
       "    .dataframe thead th {\n",
       "        text-align: right;\n",
       "    }\n",
       "</style>\n",
       "<table border=\"1\" class=\"dataframe\">\n",
       "  <thead>\n",
       "    <tr style=\"text-align: right;\">\n",
       "      <th></th>\n",
       "      <th>country</th>\n",
       "      <th>date</th>\n",
       "      <th>Capitalización bursátil respecto al PIB (%)</th>\n",
       "      <th>Activos de bancos comerciales respecto al PIB (%)</th>\n",
       "    </tr>\n",
       "  </thead>\n",
       "  <tbody>\n",
       "    <tr>\n",
       "      <th>62</th>\n",
       "      <td>United States</td>\n",
       "      <td>2021</td>\n",
       "      <td>NaN</td>\n",
       "      <td>NaN</td>\n",
       "    </tr>\n",
       "    <tr>\n",
       "      <th>63</th>\n",
       "      <td>United States</td>\n",
       "      <td>2020</td>\n",
       "      <td>194.88900</td>\n",
       "      <td>74.16846</td>\n",
       "    </tr>\n",
       "    <tr>\n",
       "      <th>64</th>\n",
       "      <td>United States</td>\n",
       "      <td>2019</td>\n",
       "      <td>158.57200</td>\n",
       "      <td>64.00681</td>\n",
       "    </tr>\n",
       "    <tr>\n",
       "      <th>65</th>\n",
       "      <td>United States</td>\n",
       "      <td>2018</td>\n",
       "      <td>148.27300</td>\n",
       "      <td>63.22401</td>\n",
       "    </tr>\n",
       "    <tr>\n",
       "      <th>66</th>\n",
       "      <td>United States</td>\n",
       "      <td>2017</td>\n",
       "      <td>164.89400</td>\n",
       "      <td>63.03008</td>\n",
       "    </tr>\n",
       "    <tr>\n",
       "      <th>67</th>\n",
       "      <td>United States</td>\n",
       "      <td>2016</td>\n",
       "      <td>146.30700</td>\n",
       "      <td>63.93101</td>\n",
       "    </tr>\n",
       "    <tr>\n",
       "      <th>68</th>\n",
       "      <td>United States</td>\n",
       "      <td>2015</td>\n",
       "      <td>137.68800</td>\n",
       "      <td>60.82715</td>\n",
       "    </tr>\n",
       "    <tr>\n",
       "      <th>69</th>\n",
       "      <td>United States</td>\n",
       "      <td>2014</td>\n",
       "      <td>150.02600</td>\n",
       "      <td>59.23862</td>\n",
       "    </tr>\n",
       "    <tr>\n",
       "      <th>70</th>\n",
       "      <td>United States</td>\n",
       "      <td>2013</td>\n",
       "      <td>142.69800</td>\n",
       "      <td>58.27073</td>\n",
       "    </tr>\n",
       "    <tr>\n",
       "      <th>71</th>\n",
       "      <td>United States</td>\n",
       "      <td>2012</td>\n",
       "      <td>114.85400</td>\n",
       "      <td>59.29870</td>\n",
       "    </tr>\n",
       "    <tr>\n",
       "      <th>72</th>\n",
       "      <td>United States</td>\n",
       "      <td>2011</td>\n",
       "      <td>100.26300</td>\n",
       "      <td>59.39561</td>\n",
       "    </tr>\n",
       "    <tr>\n",
       "      <th>0</th>\n",
       "      <td>Argentina</td>\n",
       "      <td>2021</td>\n",
       "      <td>NaN</td>\n",
       "      <td>NaN</td>\n",
       "    </tr>\n",
       "    <tr>\n",
       "      <th>1</th>\n",
       "      <td>Argentina</td>\n",
       "      <td>2020</td>\n",
       "      <td>NaN</td>\n",
       "      <td>NaN</td>\n",
       "    </tr>\n",
       "    <tr>\n",
       "      <th>2</th>\n",
       "      <td>Argentina</td>\n",
       "      <td>2019</td>\n",
       "      <td>8.69963</td>\n",
       "      <td>NaN</td>\n",
       "    </tr>\n",
       "    <tr>\n",
       "      <th>3</th>\n",
       "      <td>Argentina</td>\n",
       "      <td>2018</td>\n",
       "      <td>8.76226</td>\n",
       "      <td>NaN</td>\n",
       "    </tr>\n",
       "    <tr>\n",
       "      <th>4</th>\n",
       "      <td>Argentina</td>\n",
       "      <td>2017</td>\n",
       "      <td>16.89480</td>\n",
       "      <td>24.17418</td>\n",
       "    </tr>\n",
       "    <tr>\n",
       "      <th>5</th>\n",
       "      <td>Argentina</td>\n",
       "      <td>2016</td>\n",
       "      <td>11.40760</td>\n",
       "      <td>22.02309</td>\n",
       "    </tr>\n",
       "    <tr>\n",
       "      <th>6</th>\n",
       "      <td>Argentina</td>\n",
       "      <td>2015</td>\n",
       "      <td>9.43837</td>\n",
       "      <td>22.71855</td>\n",
       "    </tr>\n",
       "    <tr>\n",
       "      <th>7</th>\n",
       "      <td>Argentina</td>\n",
       "      <td>2014</td>\n",
       "      <td>11.42690</td>\n",
       "      <td>21.97919</td>\n",
       "    </tr>\n",
       "    <tr>\n",
       "      <th>8</th>\n",
       "      <td>Argentina</td>\n",
       "      <td>2013</td>\n",
       "      <td>9.62000</td>\n",
       "      <td>21.85879</td>\n",
       "    </tr>\n",
       "    <tr>\n",
       "      <th>9</th>\n",
       "      <td>Argentina</td>\n",
       "      <td>2012</td>\n",
       "      <td>6.27397</td>\n",
       "      <td>21.90789</td>\n",
       "    </tr>\n",
       "    <tr>\n",
       "      <th>10</th>\n",
       "      <td>Argentina</td>\n",
       "      <td>2011</td>\n",
       "      <td>8.22007</td>\n",
       "      <td>20.84089</td>\n",
       "    </tr>\n",
       "  </tbody>\n",
       "</table>\n",
       "</div>"
      ],
      "text/plain": [
       "          country  date  Capitalización bursátil respecto al PIB (%)  \\\n",
       "62  United States  2021                                          NaN   \n",
       "63  United States  2020                                    194.88900   \n",
       "64  United States  2019                                    158.57200   \n",
       "65  United States  2018                                    148.27300   \n",
       "66  United States  2017                                    164.89400   \n",
       "67  United States  2016                                    146.30700   \n",
       "68  United States  2015                                    137.68800   \n",
       "69  United States  2014                                    150.02600   \n",
       "70  United States  2013                                    142.69800   \n",
       "71  United States  2012                                    114.85400   \n",
       "72  United States  2011                                    100.26300   \n",
       "0       Argentina  2021                                          NaN   \n",
       "1       Argentina  2020                                          NaN   \n",
       "2       Argentina  2019                                      8.69963   \n",
       "3       Argentina  2018                                      8.76226   \n",
       "4       Argentina  2017                                     16.89480   \n",
       "5       Argentina  2016                                     11.40760   \n",
       "6       Argentina  2015                                      9.43837   \n",
       "7       Argentina  2014                                     11.42690   \n",
       "8       Argentina  2013                                      9.62000   \n",
       "9       Argentina  2012                                      6.27397   \n",
       "10      Argentina  2011                                      8.22007   \n",
       "\n",
       "    Activos de bancos comerciales respecto al PIB (%)  \n",
       "62                                                NaN  \n",
       "63                                           74.16846  \n",
       "64                                           64.00681  \n",
       "65                                           63.22401  \n",
       "66                                           63.03008  \n",
       "67                                           63.93101  \n",
       "68                                           60.82715  \n",
       "69                                           59.23862  \n",
       "70                                           58.27073  \n",
       "71                                           59.29870  \n",
       "72                                           59.39561  \n",
       "0                                                 NaN  \n",
       "1                                                 NaN  \n",
       "2                                                 NaN  \n",
       "3                                                 NaN  \n",
       "4                                            24.17418  \n",
       "5                                            22.02309  \n",
       "6                                            22.71855  \n",
       "7                                            21.97919  \n",
       "8                                            21.85879  \n",
       "9                                            21.90789  \n",
       "10                                           20.84089  "
      ]
     },
     "execution_count": 9,
     "metadata": {},
     "output_type": "execute_result"
    }
   ],
   "source": [
    "df_combined"
   ]
  },
  {
   "cell_type": "markdown",
   "metadata": {},
   "source": [
    "#### Ejercicio 2 - Repaso de Pandas\n",
    "Realicen una estadistica descriptiva de ambas series de indicadores comparando los dos países."
   ]
  },
  {
   "cell_type": "code",
   "execution_count": 10,
   "metadata": {},
   "outputs": [],
   "source": [
    "# Resolver acá\n",
    "\n"
   ]
  },
  {
   "cell_type": "markdown",
   "metadata": {},
   "source": [
    "#### Ejercicio 3 - Practicando con Matplotlib\n",
    "Armen dos gráficos distintos usando la librería Matplotlib (repasen Clase 4). Uno programandolo con el estilo *pyplot* y otro gráfico de estilo *orientada a objetos*"
   ]
  },
  {
   "cell_type": "code",
   "execution_count": 34,
   "metadata": {},
   "outputs": [
    {
     "data": {
      "image/png": "[encoded data removed]",
      "text/plain": [
       "<Figure size 640x480 with 1 Axes>"
      ]
     },
     "metadata": {},
     "output_type": "display_data"
    }
   ],
   "source": [
    "# Resolver acá estilo pyplot\n",
    "import matplotlib.pyplot as plt\n",
    "# Definimos  vectores  de datos  para  serie 1 (Capitalización bursátil respecto al PIB (%))\n",
    "x1 = df_argentina[df_argentina[\"country\"]==\"Argentina\"][\"Capitalización bursátil respecto al PIB (%)\"]\n",
    "y1 = df_argentina[df_argentina[\"country\"]==\"Argentina\"][\"date\"]\n",
    "# Definimos  vectores  de datos  para  serie 2 (térmica)\n",
    "x2 = df_usa[df_usa[\"country\"]==\"United States\"][\"Capitalización bursátil respecto al PIB (%)\"]\n",
    "y2 = df_usa[df_usa[\"country\"]==\"United States\"][\"date\"]\n",
    "\n",
    "\n",
    "plt.plot(y1, x1, label=\"Capitalización bursátil respecto al PIB (%) argentina\") # serie 1\n",
    "plt.plot(y2, x2, label=\"Capitalización bursátil respecto al PIB (%) usa\") # serie 2\n",
    "\n",
    "# Modifico  labels\n",
    "plt.xlabel(\"date\")\n",
    "plt.ylabel(\"Capitalización bursátil respecto al PIB (%)\")\n",
    "plt.title(\"Capitalización bursátil respecto al PIB (%) ARG Y USA\")\n",
    "plt.legend()\n",
    "plt.show()"
   ]
  },
  {
   "cell_type": "code",
   "execution_count": null,
   "metadata": {},
   "outputs": [],
   "source": [
    "# Resolver acá estilo orientado-objetos \n",
    "# Tip: aprovechar este estilo de programar una figura para hacerlo más lindo \n"
   ]
  },
  {
   "cell_type": "markdown",
   "metadata": {},
   "source": [
    "### Parte B"
   ]
  },
  {
   "cell_type": "markdown",
   "metadata": {},
   "source": [
    "#### Ejercicio 4\n",
    "De la página de noticias del [diario La Nación](https://www.lanacion.com.ar/) o cualquier diario que les interese, utilicen herramientas de web scraping para obtener los **links** de las noticias de la portada. Guarden los links obtenidos en un dataframe y expórtenlo a un archivo de excel.\n",
    "\n",
    "Nota 1: es posible que logren obtener los links a las noticias sin el dominio: \"https://www.lanacion.com.ar/\". De ser así, concatenen el dominio a la ruta del link obtenido, tal que se obtenga un link al que se pueda acceder. Es decir, que las cadenas de caracteres finales tendrán la forma: https://www.lanacion.com.ar/*texto_obtenido*)\n",
    "\n",
    "Nota 2: junto con su entrega, adjunten una captura de la página de noticias al momento de correr su código. Eso servirá al momento de la corrección para verificar que los links obtenidos hacen referencia a las noticias de ese día y hora."
   ]
  },
  {
   "cell_type": "code",
   "execution_count": null,
   "metadata": {},
   "outputs": [],
   "source": [
    "# Resolver acá\n"
   ]
  }
 ],
 "metadata": {
  "anaconda-cloud": {},
  "colab": {
   "name": "TP1 - Parte 1.ipynb",
   "provenance": []
  },
  "kernelspec": {
   "display_name": "Python 3 (ipykernel)",
   "language": "python",
   "name": "python3"
  },
  "language_info": {
   "codemirror_mode": {
    "name": "ipython",
    "version": 3
   },
   "file_extension": ".py",
   "mimetype": "text/x-python",
   "name": "python",
   "nbconvert_exporter": "python",
   "pygments_lexer": "ipython3",
   "version": "3.12.7"
  }
 },
 "nbformat": 4,
 "nbformat_minor": 4
}
